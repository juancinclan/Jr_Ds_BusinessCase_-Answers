{
 "cells": [
  {
   "cell_type": "markdown",
   "metadata": {},
   "source": [
    "# Jr. Data Scientist Business Case Results\n",
    "### Juan Carlos Inclán Soto\n",
    "### 26/01/2022"
   ]
  },
  {
   "cell_type": "markdown",
   "metadata": {},
   "source": [
    "# Synopsis"
   ]
  },
  {
   "cell_type": "markdown",
   "metadata": {},
   "source": [
    "The following project will present the answers for the Jr. Data Scientist Business Case for Marsh Senior Team members. The following project addresses  Telco Customer Churn problem and delivers a model that predicts customer churn as well as  5 client retention programs proposals to increase engagement. The data was delivered by a Marsh team member through GitHub. The data is from the Kaggle IBM Sample Datasets."
   ]
  },
  {
   "cell_type": "markdown",
   "metadata": {},
   "source": [
    "## Data and Libraries Loading Section "
   ]
  },
  {
   "cell_type": "markdown",
   "metadata": {},
   "source": [
    "##### Libraries"
   ]
  },
  {
   "cell_type": "code",
   "execution_count": 1,
   "metadata": {},
   "outputs": [],
   "source": [
    "import pandas as pd\n",
    "import numpy as np\n",
    "import matplotlib as mpl\n",
    "import matplotlib.pyplot as plt\n",
    "import numpy as np\n",
    "from sklearn.model_selection import train_test_split\n",
    "from sklearn import svm\n",
    "from sklearn.model_selection import RandomizedSearchCV\n",
    "from sklearn.ensemble import RandomForestClassifier\n",
    "from sklearn.model_selection import GridSearchCV\n",
    "from sklearn import metrics\n",
    "#import seaborn as sns"
   ]
  },
  {
   "cell_type": "markdown",
   "metadata": {},
   "source": [
    "##### Data Loading"
   ]
  },
  {
   "cell_type": "code",
   "execution_count": 2,
   "metadata": {},
   "outputs": [],
   "source": [
    "telco_df=pd.read_csv(\"https://raw.githubusercontent.com/martmor123/jr_ds_test/master/data/WA_Fn-UseC_-Telco-Customer-Churn.csv\")"
   ]
  },
  {
   "cell_type": "markdown",
   "metadata": {},
   "source": [
    "## Exploratory Data Analysis"
   ]
  },
  {
   "cell_type": "markdown",
   "metadata": {},
   "source": [
    "The first step to start building a predictive model is to explore the data, specifically look up for missing values or NA and duplicated data. These two concepts (Data Cleaning) are central in the data model building, which will reduce overfitting and underfitting bias."
   ]
  },
  {
   "cell_type": "markdown",
   "metadata": {},
   "source": [
    "Before cleaning the data, we will proceed to know the dataset by checking the number of rows, columns, and data types."
   ]
  },
  {
   "cell_type": "code",
   "execution_count": 3,
   "metadata": {},
   "outputs": [
    {
     "data": {
      "text/plain": [
       "7043"
      ]
     },
     "execution_count": 3,
     "metadata": {},
     "output_type": "execute_result"
    }
   ],
   "source": [
    "# Number of rows\n",
    "len(telco_df.axes[0])"
   ]
  },
  {
   "cell_type": "code",
   "execution_count": 4,
   "metadata": {},
   "outputs": [
    {
     "data": {
      "text/plain": [
       "21"
      ]
     },
     "execution_count": 4,
     "metadata": {},
     "output_type": "execute_result"
    }
   ],
   "source": [
    "# Number of columns\n",
    "len(telco_df.axes[1])"
   ]
  },
  {
   "cell_type": "code",
   "execution_count": 5,
   "metadata": {
    "scrolled": true
   },
   "outputs": [
    {
     "name": "stdout",
     "output_type": "stream",
     "text": [
      "<class 'pandas.core.frame.DataFrame'>\n",
      "RangeIndex: 7043 entries, 0 to 7042\n",
      "Data columns (total 21 columns):\n",
      " #   Column            Non-Null Count  Dtype  \n",
      "---  ------            --------------  -----  \n",
      " 0   customerID        7043 non-null   object \n",
      " 1   gender            7043 non-null   object \n",
      " 2   SeniorCitizen     7043 non-null   int64  \n",
      " 3   Partner           7043 non-null   object \n",
      " 4   Dependents        7043 non-null   object \n",
      " 5   tenure            7043 non-null   int64  \n",
      " 6   PhoneService      7043 non-null   object \n",
      " 7   MultipleLines     7043 non-null   object \n",
      " 8   InternetService   7043 non-null   object \n",
      " 9   OnlineSecurity    7043 non-null   object \n",
      " 10  OnlineBackup      7043 non-null   object \n",
      " 11  DeviceProtection  7043 non-null   object \n",
      " 12  TechSupport       7043 non-null   object \n",
      " 13  StreamingTV       7043 non-null   object \n",
      " 14  StreamingMovies   7043 non-null   object \n",
      " 15  Contract          7043 non-null   object \n",
      " 16  PaperlessBilling  7043 non-null   object \n",
      " 17  PaymentMethod     7043 non-null   object \n",
      " 18  MonthlyCharges    7043 non-null   float64\n",
      " 19  TotalCharges      7043 non-null   object \n",
      " 20  Churn             7043 non-null   object \n",
      "dtypes: float64(1), int64(2), object(18)\n",
      "memory usage: 1.1+ MB\n"
     ]
    }
   ],
   "source": [
    "# Data types\n",
    "telco_df.info()"
   ]
  },
  {
   "cell_type": "markdown",
   "metadata": {},
   "source": [
    "With the preview result we can assume that there is no evidence of missing data, which will be confirmed by using other techniques to spot missing data and looking for other kind of representations of missing data like the following:\n",
    "1. n/a \n",
    "2. NA \n",
    "3. -\n",
    "4. na\n",
    "5. N/A\n",
    "6. Error\n",
    "7. ERROR"
   ]
  },
  {
   "cell_type": "code",
   "execution_count": 6,
   "metadata": {},
   "outputs": [
    {
     "data": {
      "text/plain": [
       "False"
      ]
     },
     "execution_count": 6,
     "metadata": {},
     "output_type": "execute_result"
    }
   ],
   "source": [
    "telco_df.isnull().values.any()"
   ]
  },
  {
   "cell_type": "code",
   "execution_count": 7,
   "metadata": {},
   "outputs": [
    {
     "data": {
      "text/plain": [
       "False"
      ]
     },
     "execution_count": 7,
     "metadata": {},
     "output_type": "execute_result"
    }
   ],
   "source": [
    "## None-Standard missing values\n",
    "pd.read_csv(\"https://raw.githubusercontent.com/martmor123/jr_ds_test/master/data/WA_Fn-UseC_-Telco-Customer-Churn.csv\", na_values=[\"n/a\", \"N/A\", \"--\", \".\", \"-\", \"NA\",\"na\", \"Error\", \"ERROR\", \"error\"]).isnull().values.any()"
   ]
  },
  {
   "cell_type": "markdown",
   "metadata": {},
   "source": [
    "Now, we know that there are no missing values in the data, we will proceed to review for duplicated data. To review duplicated data, we will check the first 5 lines of the dataset."
   ]
  },
  {
   "cell_type": "code",
   "execution_count": 8,
   "metadata": {
    "scrolled": true
   },
   "outputs": [
    {
     "data": {
      "text/html": [
       "<div>\n",
       "<style scoped>\n",
       "    .dataframe tbody tr th:only-of-type {\n",
       "        vertical-align: middle;\n",
       "    }\n",
       "\n",
       "    .dataframe tbody tr th {\n",
       "        vertical-align: top;\n",
       "    }\n",
       "\n",
       "    .dataframe thead th {\n",
       "        text-align: right;\n",
       "    }\n",
       "</style>\n",
       "<table border=\"1\" class=\"dataframe\">\n",
       "  <thead>\n",
       "    <tr style=\"text-align: right;\">\n",
       "      <th></th>\n",
       "      <th>customerID</th>\n",
       "      <th>gender</th>\n",
       "      <th>SeniorCitizen</th>\n",
       "      <th>Partner</th>\n",
       "      <th>Dependents</th>\n",
       "      <th>tenure</th>\n",
       "      <th>PhoneService</th>\n",
       "      <th>MultipleLines</th>\n",
       "      <th>InternetService</th>\n",
       "      <th>OnlineSecurity</th>\n",
       "      <th>...</th>\n",
       "      <th>DeviceProtection</th>\n",
       "      <th>TechSupport</th>\n",
       "      <th>StreamingTV</th>\n",
       "      <th>StreamingMovies</th>\n",
       "      <th>Contract</th>\n",
       "      <th>PaperlessBilling</th>\n",
       "      <th>PaymentMethod</th>\n",
       "      <th>MonthlyCharges</th>\n",
       "      <th>TotalCharges</th>\n",
       "      <th>Churn</th>\n",
       "    </tr>\n",
       "  </thead>\n",
       "  <tbody>\n",
       "    <tr>\n",
       "      <th>0</th>\n",
       "      <td>7590-VHVEG</td>\n",
       "      <td>Female</td>\n",
       "      <td>0</td>\n",
       "      <td>Yes</td>\n",
       "      <td>No</td>\n",
       "      <td>1</td>\n",
       "      <td>No</td>\n",
       "      <td>No phone service</td>\n",
       "      <td>DSL</td>\n",
       "      <td>No</td>\n",
       "      <td>...</td>\n",
       "      <td>No</td>\n",
       "      <td>No</td>\n",
       "      <td>No</td>\n",
       "      <td>No</td>\n",
       "      <td>Month-to-month</td>\n",
       "      <td>Yes</td>\n",
       "      <td>Electronic check</td>\n",
       "      <td>29.85</td>\n",
       "      <td>29.85</td>\n",
       "      <td>No</td>\n",
       "    </tr>\n",
       "    <tr>\n",
       "      <th>1</th>\n",
       "      <td>5575-GNVDE</td>\n",
       "      <td>Male</td>\n",
       "      <td>0</td>\n",
       "      <td>No</td>\n",
       "      <td>No</td>\n",
       "      <td>34</td>\n",
       "      <td>Yes</td>\n",
       "      <td>No</td>\n",
       "      <td>DSL</td>\n",
       "      <td>Yes</td>\n",
       "      <td>...</td>\n",
       "      <td>Yes</td>\n",
       "      <td>No</td>\n",
       "      <td>No</td>\n",
       "      <td>No</td>\n",
       "      <td>One year</td>\n",
       "      <td>No</td>\n",
       "      <td>Mailed check</td>\n",
       "      <td>56.95</td>\n",
       "      <td>1889.5</td>\n",
       "      <td>No</td>\n",
       "    </tr>\n",
       "    <tr>\n",
       "      <th>2</th>\n",
       "      <td>3668-QPYBK</td>\n",
       "      <td>Male</td>\n",
       "      <td>0</td>\n",
       "      <td>No</td>\n",
       "      <td>No</td>\n",
       "      <td>2</td>\n",
       "      <td>Yes</td>\n",
       "      <td>No</td>\n",
       "      <td>DSL</td>\n",
       "      <td>Yes</td>\n",
       "      <td>...</td>\n",
       "      <td>No</td>\n",
       "      <td>No</td>\n",
       "      <td>No</td>\n",
       "      <td>No</td>\n",
       "      <td>Month-to-month</td>\n",
       "      <td>Yes</td>\n",
       "      <td>Mailed check</td>\n",
       "      <td>53.85</td>\n",
       "      <td>108.15</td>\n",
       "      <td>Yes</td>\n",
       "    </tr>\n",
       "    <tr>\n",
       "      <th>3</th>\n",
       "      <td>7795-CFOCW</td>\n",
       "      <td>Male</td>\n",
       "      <td>0</td>\n",
       "      <td>No</td>\n",
       "      <td>No</td>\n",
       "      <td>45</td>\n",
       "      <td>No</td>\n",
       "      <td>No phone service</td>\n",
       "      <td>DSL</td>\n",
       "      <td>Yes</td>\n",
       "      <td>...</td>\n",
       "      <td>Yes</td>\n",
       "      <td>Yes</td>\n",
       "      <td>No</td>\n",
       "      <td>No</td>\n",
       "      <td>One year</td>\n",
       "      <td>No</td>\n",
       "      <td>Bank transfer (automatic)</td>\n",
       "      <td>42.30</td>\n",
       "      <td>1840.75</td>\n",
       "      <td>No</td>\n",
       "    </tr>\n",
       "    <tr>\n",
       "      <th>4</th>\n",
       "      <td>9237-HQITU</td>\n",
       "      <td>Female</td>\n",
       "      <td>0</td>\n",
       "      <td>No</td>\n",
       "      <td>No</td>\n",
       "      <td>2</td>\n",
       "      <td>Yes</td>\n",
       "      <td>No</td>\n",
       "      <td>Fiber optic</td>\n",
       "      <td>No</td>\n",
       "      <td>...</td>\n",
       "      <td>No</td>\n",
       "      <td>No</td>\n",
       "      <td>No</td>\n",
       "      <td>No</td>\n",
       "      <td>Month-to-month</td>\n",
       "      <td>Yes</td>\n",
       "      <td>Electronic check</td>\n",
       "      <td>70.70</td>\n",
       "      <td>151.65</td>\n",
       "      <td>Yes</td>\n",
       "    </tr>\n",
       "  </tbody>\n",
       "</table>\n",
       "<p>5 rows × 21 columns</p>\n",
       "</div>"
      ],
      "text/plain": [
       "   customerID  gender  SeniorCitizen Partner Dependents  tenure PhoneService  \\\n",
       "0  7590-VHVEG  Female              0     Yes         No       1           No   \n",
       "1  5575-GNVDE    Male              0      No         No      34          Yes   \n",
       "2  3668-QPYBK    Male              0      No         No       2          Yes   \n",
       "3  7795-CFOCW    Male              0      No         No      45           No   \n",
       "4  9237-HQITU  Female              0      No         No       2          Yes   \n",
       "\n",
       "      MultipleLines InternetService OnlineSecurity  ... DeviceProtection  \\\n",
       "0  No phone service             DSL             No  ...               No   \n",
       "1                No             DSL            Yes  ...              Yes   \n",
       "2                No             DSL            Yes  ...               No   \n",
       "3  No phone service             DSL            Yes  ...              Yes   \n",
       "4                No     Fiber optic             No  ...               No   \n",
       "\n",
       "  TechSupport StreamingTV StreamingMovies        Contract PaperlessBilling  \\\n",
       "0          No          No              No  Month-to-month              Yes   \n",
       "1          No          No              No        One year               No   \n",
       "2          No          No              No  Month-to-month              Yes   \n",
       "3         Yes          No              No        One year               No   \n",
       "4          No          No              No  Month-to-month              Yes   \n",
       "\n",
       "               PaymentMethod MonthlyCharges  TotalCharges Churn  \n",
       "0           Electronic check          29.85         29.85    No  \n",
       "1               Mailed check          56.95        1889.5    No  \n",
       "2               Mailed check          53.85        108.15   Yes  \n",
       "3  Bank transfer (automatic)          42.30       1840.75    No  \n",
       "4           Electronic check          70.70        151.65   Yes  \n",
       "\n",
       "[5 rows x 21 columns]"
      ]
     },
     "execution_count": 8,
     "metadata": {},
     "output_type": "execute_result"
    }
   ],
   "source": [
    "telco_df.head()"
   ]
  },
  {
   "cell_type": "markdown",
   "metadata": {},
   "source": [
    "It is clear that the column labeled \"customerID\" is the Primary Key of the data set, in order to find duplicate values, we should look up for duplicated data in this field."
   ]
  },
  {
   "cell_type": "code",
   "execution_count": 9,
   "metadata": {},
   "outputs": [
    {
     "data": {
      "text/plain": [
       "0"
      ]
     },
     "execution_count": 9,
     "metadata": {},
     "output_type": "execute_result"
    }
   ],
   "source": [
    "telco_df.duplicated(['customerID']).sum()"
   ]
  },
  {
   "cell_type": "markdown",
   "metadata": {},
   "source": [
    "We are almost ready to start the basic summaries and plotting of the data. In the data types table we observed that the field \"TotalCharges\" is an object instead of a float by contrasting it to the head of the dataset, which clearly shows a numeric value. We will proceed to transform the data type from object to float."
   ]
  },
  {
   "cell_type": "code",
   "execution_count": 10,
   "metadata": {},
   "outputs": [
    {
     "data": {
      "text/plain": [
       "True"
      ]
     },
     "execution_count": 10,
     "metadata": {},
     "output_type": "execute_result"
    }
   ],
   "source": [
    "telco_df[\"TotalCharges\"]=pd.to_numeric(telco_df[\"TotalCharges\"], errors='coerce')\n",
    "telco_df[\"TotalCharges\"].isnull().values.any() "
   ]
  },
  {
   "cell_type": "markdown",
   "metadata": {},
   "source": [
    "We found out that exist missing values in the data, we will proceed to count them and decided if we apply an imputing technique to estimate the missing values and avoid information loss, which will translate in a underfitting predictive model."
   ]
  },
  {
   "cell_type": "code",
   "execution_count": 11,
   "metadata": {},
   "outputs": [
    {
     "data": {
      "text/plain": [
       "11"
      ]
     },
     "execution_count": 11,
     "metadata": {},
     "output_type": "execute_result"
    }
   ],
   "source": [
    "TC_NAN_V=telco_df[telco_df[\"TotalCharges\"].isnull()].index.tolist()\n",
    "len(TC_NAN_V)"
   ]
  },
  {
   "cell_type": "markdown",
   "metadata": {},
   "source": [
    "We found that 11 out of 7,043 records are missing values, we just could eliminate them because represent 0.1562% of the dataset, but we prefer to use an imputing technique with the mean, median or adding 0. It will depend on the outlier quantity located in the data. The imputing technique will be implemented because it is less than the 10% of the data that will be imputed."
   ]
  },
  {
   "cell_type": "code",
   "execution_count": 12,
   "metadata": {
    "scrolled": true
   },
   "outputs": [
    {
     "data": {
      "text/html": [
       "<div>\n",
       "<style scoped>\n",
       "    .dataframe tbody tr th:only-of-type {\n",
       "        vertical-align: middle;\n",
       "    }\n",
       "\n",
       "    .dataframe tbody tr th {\n",
       "        vertical-align: top;\n",
       "    }\n",
       "\n",
       "    .dataframe thead th {\n",
       "        text-align: right;\n",
       "    }\n",
       "</style>\n",
       "<table border=\"1\" class=\"dataframe\">\n",
       "  <thead>\n",
       "    <tr style=\"text-align: right;\">\n",
       "      <th></th>\n",
       "      <th>customerID</th>\n",
       "      <th>gender</th>\n",
       "      <th>SeniorCitizen</th>\n",
       "      <th>Partner</th>\n",
       "      <th>Dependents</th>\n",
       "      <th>tenure</th>\n",
       "      <th>PhoneService</th>\n",
       "      <th>MultipleLines</th>\n",
       "      <th>InternetService</th>\n",
       "      <th>OnlineSecurity</th>\n",
       "      <th>...</th>\n",
       "      <th>DeviceProtection</th>\n",
       "      <th>TechSupport</th>\n",
       "      <th>StreamingTV</th>\n",
       "      <th>StreamingMovies</th>\n",
       "      <th>Contract</th>\n",
       "      <th>PaperlessBilling</th>\n",
       "      <th>PaymentMethod</th>\n",
       "      <th>MonthlyCharges</th>\n",
       "      <th>TotalCharges</th>\n",
       "      <th>Churn</th>\n",
       "    </tr>\n",
       "  </thead>\n",
       "  <tbody>\n",
       "    <tr>\n",
       "      <th>488</th>\n",
       "      <td>4472-LVYGI</td>\n",
       "      <td>Female</td>\n",
       "      <td>0</td>\n",
       "      <td>Yes</td>\n",
       "      <td>Yes</td>\n",
       "      <td>0</td>\n",
       "      <td>No</td>\n",
       "      <td>No phone service</td>\n",
       "      <td>DSL</td>\n",
       "      <td>Yes</td>\n",
       "      <td>...</td>\n",
       "      <td>Yes</td>\n",
       "      <td>Yes</td>\n",
       "      <td>Yes</td>\n",
       "      <td>No</td>\n",
       "      <td>Two year</td>\n",
       "      <td>Yes</td>\n",
       "      <td>Bank transfer (automatic)</td>\n",
       "      <td>52.55</td>\n",
       "      <td></td>\n",
       "      <td>No</td>\n",
       "    </tr>\n",
       "    <tr>\n",
       "      <th>753</th>\n",
       "      <td>3115-CZMZD</td>\n",
       "      <td>Male</td>\n",
       "      <td>0</td>\n",
       "      <td>No</td>\n",
       "      <td>Yes</td>\n",
       "      <td>0</td>\n",
       "      <td>Yes</td>\n",
       "      <td>No</td>\n",
       "      <td>No</td>\n",
       "      <td>No internet service</td>\n",
       "      <td>...</td>\n",
       "      <td>No internet service</td>\n",
       "      <td>No internet service</td>\n",
       "      <td>No internet service</td>\n",
       "      <td>No internet service</td>\n",
       "      <td>Two year</td>\n",
       "      <td>No</td>\n",
       "      <td>Mailed check</td>\n",
       "      <td>20.25</td>\n",
       "      <td></td>\n",
       "      <td>No</td>\n",
       "    </tr>\n",
       "    <tr>\n",
       "      <th>936</th>\n",
       "      <td>5709-LVOEQ</td>\n",
       "      <td>Female</td>\n",
       "      <td>0</td>\n",
       "      <td>Yes</td>\n",
       "      <td>Yes</td>\n",
       "      <td>0</td>\n",
       "      <td>Yes</td>\n",
       "      <td>No</td>\n",
       "      <td>DSL</td>\n",
       "      <td>Yes</td>\n",
       "      <td>...</td>\n",
       "      <td>Yes</td>\n",
       "      <td>No</td>\n",
       "      <td>Yes</td>\n",
       "      <td>Yes</td>\n",
       "      <td>Two year</td>\n",
       "      <td>No</td>\n",
       "      <td>Mailed check</td>\n",
       "      <td>80.85</td>\n",
       "      <td></td>\n",
       "      <td>No</td>\n",
       "    </tr>\n",
       "    <tr>\n",
       "      <th>1082</th>\n",
       "      <td>4367-NUYAO</td>\n",
       "      <td>Male</td>\n",
       "      <td>0</td>\n",
       "      <td>Yes</td>\n",
       "      <td>Yes</td>\n",
       "      <td>0</td>\n",
       "      <td>Yes</td>\n",
       "      <td>Yes</td>\n",
       "      <td>No</td>\n",
       "      <td>No internet service</td>\n",
       "      <td>...</td>\n",
       "      <td>No internet service</td>\n",
       "      <td>No internet service</td>\n",
       "      <td>No internet service</td>\n",
       "      <td>No internet service</td>\n",
       "      <td>Two year</td>\n",
       "      <td>No</td>\n",
       "      <td>Mailed check</td>\n",
       "      <td>25.75</td>\n",
       "      <td></td>\n",
       "      <td>No</td>\n",
       "    </tr>\n",
       "    <tr>\n",
       "      <th>1340</th>\n",
       "      <td>1371-DWPAZ</td>\n",
       "      <td>Female</td>\n",
       "      <td>0</td>\n",
       "      <td>Yes</td>\n",
       "      <td>Yes</td>\n",
       "      <td>0</td>\n",
       "      <td>No</td>\n",
       "      <td>No phone service</td>\n",
       "      <td>DSL</td>\n",
       "      <td>Yes</td>\n",
       "      <td>...</td>\n",
       "      <td>Yes</td>\n",
       "      <td>Yes</td>\n",
       "      <td>Yes</td>\n",
       "      <td>No</td>\n",
       "      <td>Two year</td>\n",
       "      <td>No</td>\n",
       "      <td>Credit card (automatic)</td>\n",
       "      <td>56.05</td>\n",
       "      <td></td>\n",
       "      <td>No</td>\n",
       "    </tr>\n",
       "    <tr>\n",
       "      <th>3331</th>\n",
       "      <td>7644-OMVMY</td>\n",
       "      <td>Male</td>\n",
       "      <td>0</td>\n",
       "      <td>Yes</td>\n",
       "      <td>Yes</td>\n",
       "      <td>0</td>\n",
       "      <td>Yes</td>\n",
       "      <td>No</td>\n",
       "      <td>No</td>\n",
       "      <td>No internet service</td>\n",
       "      <td>...</td>\n",
       "      <td>No internet service</td>\n",
       "      <td>No internet service</td>\n",
       "      <td>No internet service</td>\n",
       "      <td>No internet service</td>\n",
       "      <td>Two year</td>\n",
       "      <td>No</td>\n",
       "      <td>Mailed check</td>\n",
       "      <td>19.85</td>\n",
       "      <td></td>\n",
       "      <td>No</td>\n",
       "    </tr>\n",
       "    <tr>\n",
       "      <th>3826</th>\n",
       "      <td>3213-VVOLG</td>\n",
       "      <td>Male</td>\n",
       "      <td>0</td>\n",
       "      <td>Yes</td>\n",
       "      <td>Yes</td>\n",
       "      <td>0</td>\n",
       "      <td>Yes</td>\n",
       "      <td>Yes</td>\n",
       "      <td>No</td>\n",
       "      <td>No internet service</td>\n",
       "      <td>...</td>\n",
       "      <td>No internet service</td>\n",
       "      <td>No internet service</td>\n",
       "      <td>No internet service</td>\n",
       "      <td>No internet service</td>\n",
       "      <td>Two year</td>\n",
       "      <td>No</td>\n",
       "      <td>Mailed check</td>\n",
       "      <td>25.35</td>\n",
       "      <td></td>\n",
       "      <td>No</td>\n",
       "    </tr>\n",
       "    <tr>\n",
       "      <th>4380</th>\n",
       "      <td>2520-SGTTA</td>\n",
       "      <td>Female</td>\n",
       "      <td>0</td>\n",
       "      <td>Yes</td>\n",
       "      <td>Yes</td>\n",
       "      <td>0</td>\n",
       "      <td>Yes</td>\n",
       "      <td>No</td>\n",
       "      <td>No</td>\n",
       "      <td>No internet service</td>\n",
       "      <td>...</td>\n",
       "      <td>No internet service</td>\n",
       "      <td>No internet service</td>\n",
       "      <td>No internet service</td>\n",
       "      <td>No internet service</td>\n",
       "      <td>Two year</td>\n",
       "      <td>No</td>\n",
       "      <td>Mailed check</td>\n",
       "      <td>20.00</td>\n",
       "      <td></td>\n",
       "      <td>No</td>\n",
       "    </tr>\n",
       "    <tr>\n",
       "      <th>5218</th>\n",
       "      <td>2923-ARZLG</td>\n",
       "      <td>Male</td>\n",
       "      <td>0</td>\n",
       "      <td>Yes</td>\n",
       "      <td>Yes</td>\n",
       "      <td>0</td>\n",
       "      <td>Yes</td>\n",
       "      <td>No</td>\n",
       "      <td>No</td>\n",
       "      <td>No internet service</td>\n",
       "      <td>...</td>\n",
       "      <td>No internet service</td>\n",
       "      <td>No internet service</td>\n",
       "      <td>No internet service</td>\n",
       "      <td>No internet service</td>\n",
       "      <td>One year</td>\n",
       "      <td>Yes</td>\n",
       "      <td>Mailed check</td>\n",
       "      <td>19.70</td>\n",
       "      <td></td>\n",
       "      <td>No</td>\n",
       "    </tr>\n",
       "    <tr>\n",
       "      <th>6670</th>\n",
       "      <td>4075-WKNIU</td>\n",
       "      <td>Female</td>\n",
       "      <td>0</td>\n",
       "      <td>Yes</td>\n",
       "      <td>Yes</td>\n",
       "      <td>0</td>\n",
       "      <td>Yes</td>\n",
       "      <td>Yes</td>\n",
       "      <td>DSL</td>\n",
       "      <td>No</td>\n",
       "      <td>...</td>\n",
       "      <td>Yes</td>\n",
       "      <td>Yes</td>\n",
       "      <td>Yes</td>\n",
       "      <td>No</td>\n",
       "      <td>Two year</td>\n",
       "      <td>No</td>\n",
       "      <td>Mailed check</td>\n",
       "      <td>73.35</td>\n",
       "      <td></td>\n",
       "      <td>No</td>\n",
       "    </tr>\n",
       "    <tr>\n",
       "      <th>6754</th>\n",
       "      <td>2775-SEFEE</td>\n",
       "      <td>Male</td>\n",
       "      <td>0</td>\n",
       "      <td>No</td>\n",
       "      <td>Yes</td>\n",
       "      <td>0</td>\n",
       "      <td>Yes</td>\n",
       "      <td>Yes</td>\n",
       "      <td>DSL</td>\n",
       "      <td>Yes</td>\n",
       "      <td>...</td>\n",
       "      <td>No</td>\n",
       "      <td>Yes</td>\n",
       "      <td>No</td>\n",
       "      <td>No</td>\n",
       "      <td>Two year</td>\n",
       "      <td>Yes</td>\n",
       "      <td>Bank transfer (automatic)</td>\n",
       "      <td>61.90</td>\n",
       "      <td></td>\n",
       "      <td>No</td>\n",
       "    </tr>\n",
       "  </tbody>\n",
       "</table>\n",
       "<p>11 rows × 21 columns</p>\n",
       "</div>"
      ],
      "text/plain": [
       "      customerID  gender  SeniorCitizen Partner Dependents  tenure  \\\n",
       "488   4472-LVYGI  Female              0     Yes        Yes       0   \n",
       "753   3115-CZMZD    Male              0      No        Yes       0   \n",
       "936   5709-LVOEQ  Female              0     Yes        Yes       0   \n",
       "1082  4367-NUYAO    Male              0     Yes        Yes       0   \n",
       "1340  1371-DWPAZ  Female              0     Yes        Yes       0   \n",
       "3331  7644-OMVMY    Male              0     Yes        Yes       0   \n",
       "3826  3213-VVOLG    Male              0     Yes        Yes       0   \n",
       "4380  2520-SGTTA  Female              0     Yes        Yes       0   \n",
       "5218  2923-ARZLG    Male              0     Yes        Yes       0   \n",
       "6670  4075-WKNIU  Female              0     Yes        Yes       0   \n",
       "6754  2775-SEFEE    Male              0      No        Yes       0   \n",
       "\n",
       "     PhoneService     MultipleLines InternetService       OnlineSecurity  ...  \\\n",
       "488            No  No phone service             DSL                  Yes  ...   \n",
       "753           Yes                No              No  No internet service  ...   \n",
       "936           Yes                No             DSL                  Yes  ...   \n",
       "1082          Yes               Yes              No  No internet service  ...   \n",
       "1340           No  No phone service             DSL                  Yes  ...   \n",
       "3331          Yes                No              No  No internet service  ...   \n",
       "3826          Yes               Yes              No  No internet service  ...   \n",
       "4380          Yes                No              No  No internet service  ...   \n",
       "5218          Yes                No              No  No internet service  ...   \n",
       "6670          Yes               Yes             DSL                   No  ...   \n",
       "6754          Yes               Yes             DSL                  Yes  ...   \n",
       "\n",
       "         DeviceProtection          TechSupport          StreamingTV  \\\n",
       "488                   Yes                  Yes                  Yes   \n",
       "753   No internet service  No internet service  No internet service   \n",
       "936                   Yes                   No                  Yes   \n",
       "1082  No internet service  No internet service  No internet service   \n",
       "1340                  Yes                  Yes                  Yes   \n",
       "3331  No internet service  No internet service  No internet service   \n",
       "3826  No internet service  No internet service  No internet service   \n",
       "4380  No internet service  No internet service  No internet service   \n",
       "5218  No internet service  No internet service  No internet service   \n",
       "6670                  Yes                  Yes                  Yes   \n",
       "6754                   No                  Yes                   No   \n",
       "\n",
       "          StreamingMovies  Contract PaperlessBilling  \\\n",
       "488                    No  Two year              Yes   \n",
       "753   No internet service  Two year               No   \n",
       "936                   Yes  Two year               No   \n",
       "1082  No internet service  Two year               No   \n",
       "1340                   No  Two year               No   \n",
       "3331  No internet service  Two year               No   \n",
       "3826  No internet service  Two year               No   \n",
       "4380  No internet service  Two year               No   \n",
       "5218  No internet service  One year              Yes   \n",
       "6670                   No  Two year               No   \n",
       "6754                   No  Two year              Yes   \n",
       "\n",
       "                  PaymentMethod MonthlyCharges  TotalCharges Churn  \n",
       "488   Bank transfer (automatic)          52.55                  No  \n",
       "753                Mailed check          20.25                  No  \n",
       "936                Mailed check          80.85                  No  \n",
       "1082               Mailed check          25.75                  No  \n",
       "1340    Credit card (automatic)          56.05                  No  \n",
       "3331               Mailed check          19.85                  No  \n",
       "3826               Mailed check          25.35                  No  \n",
       "4380               Mailed check          20.00                  No  \n",
       "5218               Mailed check          19.70                  No  \n",
       "6670               Mailed check          73.35                  No  \n",
       "6754  Bank transfer (automatic)          61.90                  No  \n",
       "\n",
       "[11 rows x 21 columns]"
      ]
     },
     "execution_count": 12,
     "metadata": {},
     "output_type": "execute_result"
    }
   ],
   "source": [
    "pd.read_csv(\"https://raw.githubusercontent.com/martmor123/jr_ds_test/master/data/WA_Fn-UseC_-Telco-Customer-Churn.csv\").loc[TC_NAN_V,:]"
   ]
  },
  {
   "cell_type": "markdown",
   "metadata": {},
   "source": [
    "We will use histogram and quantile analysis applied to the \"TotalCharges\" field to observe the data behavior to decide which imputing technique use."
   ]
  },
  {
   "cell_type": "code",
   "execution_count": 13,
   "metadata": {},
   "outputs": [
    {
     "name": "stderr",
     "output_type": "stream",
     "text": [
      "C:\\Users\\juanc\\anaconda3\\lib\\site-packages\\numpy\\lib\\histograms.py:839: RuntimeWarning: invalid value encountered in greater_equal\n",
      "  keep = (tmp_a >= first_edge)\n",
      "C:\\Users\\juanc\\anaconda3\\lib\\site-packages\\numpy\\lib\\histograms.py:840: RuntimeWarning: invalid value encountered in less_equal\n",
      "  keep &= (tmp_a <= last_edge)\n"
     ]
    },
    {
     "data": {
      "text/plain": [
       "Text(0, 0.5, 'Frequency')"
      ]
     },
     "execution_count": 13,
     "metadata": {},
     "output_type": "execute_result"
    },
    {
     "data": {
      "image/png": "[encoded data removed]",
      "text/plain": [
       "<Figure size 432x288 with 1 Axes>"
      ]
     },
     "metadata": {
      "needs_background": "light"
     },
     "output_type": "display_data"
    }
   ],
   "source": [
    "plt.hist(telco_df[\"TotalCharges\"])\n",
    "plt.xlabel('Total Charges')\n",
    "plt.ylabel('Frequency')"
   ]
  },
  {
   "cell_type": "code",
   "execution_count": 14,
   "metadata": {},
   "outputs": [
    {
     "data": {
      "text/plain": [
       "0.25     401.4500\n",
       "0.50    1397.4750\n",
       "0.75    3794.7375\n",
       "1.00    8684.8000\n",
       "Name: TotalCharges, dtype: float64"
      ]
     },
     "execution_count": 14,
     "metadata": {},
     "output_type": "execute_result"
    }
   ],
   "source": [
    "telco_df[\"TotalCharges\"].quantile([.25,.5,.75,1])"
   ]
  },
  {
   "cell_type": "markdown",
   "metadata": {},
   "source": [
    "We will impute the data through the median because of the distribution of the data shown by the quantiles and the histogram plot. Due to the last 25% of the data that exceeds whit a range of 8,684.8-3,794.7375=4,8903.0624, which is more than the range where 75% data distribution."
   ]
  },
  {
   "cell_type": "code",
   "execution_count": 15,
   "metadata": {},
   "outputs": [],
   "source": [
    "telco_df[\"TotalCharges\"]=telco_df[\"TotalCharges\"].fillna(telco_df[\"TotalCharges\"].median())"
   ]
  },
  {
   "cell_type": "code",
   "execution_count": 16,
   "metadata": {
    "scrolled": true
   },
   "outputs": [
    {
     "data": {
      "text/plain": [
       "488     1397.475\n",
       "753     1397.475\n",
       "936     1397.475\n",
       "1082    1397.475\n",
       "1340    1397.475\n",
       "3331    1397.475\n",
       "3826    1397.475\n",
       "4380    1397.475\n",
       "5218    1397.475\n",
       "6670    1397.475\n",
       "6754    1397.475\n",
       "Name: TotalCharges, dtype: float64"
      ]
     },
     "execution_count": 16,
     "metadata": {},
     "output_type": "execute_result"
    }
   ],
   "source": [
    "telco_df.loc[TC_NAN_V,\"TotalCharges\"]"
   ]
  },
  {
   "cell_type": "markdown",
   "metadata": {},
   "source": [
    "Now we are ready to start an exploratory analysis for selecting the predictive model that we are going to build. At first glance we will propose a Logistic Regression Model due to the \"churn\" field that seems to be a categoric variable, yes/no, but due to the amount of categoric variables in the dataset a Classifier Random Forest will be the best option for this case. If the dataset had more numeric variables than categoric a Logistic Regression Model was more feasible than a Classifier Random Forest for predicting the probability of a customer becoming churn."
   ]
  },
  {
   "cell_type": "markdown",
   "metadata": {},
   "source": [
    "We have the hypothesis that we have more clients from one gender than the other."
   ]
  },
  {
   "cell_type": "code",
   "execution_count": 17,
   "metadata": {
    "scrolled": true
   },
   "outputs": [
    {
     "data": {
      "text/plain": [
       "Male      3555\n",
       "Female    3488\n",
       "Name: gender, dtype: int64"
      ]
     },
     "execution_count": 17,
     "metadata": {},
     "output_type": "execute_result"
    }
   ],
   "source": [
    "# Propuesta, checar gender %\n",
    "telco_df['gender'].value_counts()"
   ]
  },
  {
   "cell_type": "code",
   "execution_count": 18,
   "metadata": {},
   "outputs": [
    {
     "data": {
      "text/plain": [
       "0.504756495811444"
      ]
     },
     "execution_count": 18,
     "metadata": {},
     "output_type": "execute_result"
    }
   ],
   "source": [
    "3555/(3555+3488)"
   ]
  },
  {
   "cell_type": "code",
   "execution_count": 19,
   "metadata": {},
   "outputs": [
    {
     "data": {
      "text/plain": [
       "0.495243504188556"
      ]
     },
     "execution_count": 19,
     "metadata": {},
     "output_type": "execute_result"
    }
   ],
   "source": [
    "3488/(3555+3488)"
   ]
  },
  {
   "cell_type": "markdown",
   "metadata": {},
   "source": [
    "The results reject that we have a dominant gender and show us that is balanced 50-50. Now we have the hypothesis that most of our clients are not senior citizens."
   ]
  },
  {
   "cell_type": "code",
   "execution_count": 20,
   "metadata": {},
   "outputs": [
    {
     "data": {
      "text/plain": [
       "0    5901\n",
       "1    1142\n",
       "Name: SeniorCitizen, dtype: int64"
      ]
     },
     "execution_count": 20,
     "metadata": {},
     "output_type": "execute_result"
    }
   ],
   "source": [
    "telco_df['SeniorCitizen'].value_counts()"
   ]
  },
  {
   "cell_type": "markdown",
   "metadata": {},
   "source": [
    "84% of our clients are not senior citizens, which confirms our hypothesis and could be a common characteristic in the retention plan programs."
   ]
  },
  {
   "cell_type": "code",
   "execution_count": 21,
   "metadata": {},
   "outputs": [
    {
     "data": {
      "text/plain": [
       "0.8378531875621185"
      ]
     },
     "execution_count": 21,
     "metadata": {},
     "output_type": "execute_result"
    }
   ],
   "source": [
    "5901/(5901+1142) #not senior"
   ]
  },
  {
   "cell_type": "code",
   "execution_count": 22,
   "metadata": {},
   "outputs": [
    {
     "data": {
      "text/plain": [
       "0.1621468124378816"
      ]
     },
     "execution_count": 22,
     "metadata": {},
     "output_type": "execute_result"
    }
   ],
   "source": [
    "1142/(5901+1142) #senior citizens"
   ]
  },
  {
   "cell_type": "markdown",
   "metadata": {},
   "source": [
    "Now, we will proceed to check churn clients."
   ]
  },
  {
   "cell_type": "code",
   "execution_count": 23,
   "metadata": {},
   "outputs": [
    {
     "data": {
      "text/plain": [
       "No     5174\n",
       "Yes    1869\n",
       "Name: Churn, dtype: int64"
      ]
     },
     "execution_count": 23,
     "metadata": {},
     "output_type": "execute_result"
    }
   ],
   "source": [
    "telco_df['Churn'].value_counts()"
   ]
  },
  {
   "cell_type": "markdown",
   "metadata": {},
   "source": [
    "Approximately 27% of our clients are churn, this will translate in 1 every 3 clients will become churn. On the other hand, we would think that we have a higher churn rate from our senior clients than the rest of the clients."
   ]
  },
  {
   "cell_type": "code",
   "execution_count": 24,
   "metadata": {},
   "outputs": [
    {
     "data": {
      "text/plain": [
       "0.2653698707936959"
      ]
     },
     "execution_count": 24,
     "metadata": {},
     "output_type": "execute_result"
    }
   ],
   "source": [
    "1869/(1869+5174)"
   ]
  },
  {
   "cell_type": "markdown",
   "metadata": {},
   "source": [
    "The gender variable does not affect the distribution of clients between churns, this confirms that the gender distribution between our clients is 50/50."
   ]
  },
  {
   "cell_type": "code",
   "execution_count": 25,
   "metadata": {
    "scrolled": true
   },
   "outputs": [
    {
     "data": {
      "text/plain": [
       "gender  SeniorCitizen  Churn\n",
       "Female  0              No       2221\n",
       "                       Yes       699\n",
       "        1              No        328\n",
       "                       Yes       240\n",
       "Male    0              No       2287\n",
       "                       Yes       694\n",
       "        1              No        338\n",
       "                       Yes       236\n",
       "Name: customerID, dtype: int64"
      ]
     },
     "execution_count": 25,
     "metadata": {},
     "output_type": "execute_result"
    }
   ],
   "source": [
    "telco_df.groupby(['gender','SeniorCitizen', 'Churn'])['customerID'].count()"
   ]
  },
  {
   "cell_type": "code",
   "execution_count": 26,
   "metadata": {},
   "outputs": [
    {
     "data": {
      "text/plain": [
       "SeniorCitizen  Churn\n",
       "0              No       4508\n",
       "               Yes      1393\n",
       "1              No        666\n",
       "               Yes       476\n",
       "Name: customerID, dtype: int64"
      ]
     },
     "execution_count": 26,
     "metadata": {},
     "output_type": "execute_result"
    }
   ],
   "source": [
    "telco_df.groupby(['SeniorCitizen', 'Churn'])['customerID'].count()"
   ]
  },
  {
   "cell_type": "markdown",
   "metadata": {},
   "source": [
    "The churn rate is greater in the Senior Citizen side than in the rest of the clients it is 2 out of 5 Senior Citizen client will become churn. This would possibly be due to the learning curve or have higher expectancy of the service the senior citizens rather than younger clients, but for each senior client churn will be 2 young clients' churn."
   ]
  },
  {
   "cell_type": "code",
   "execution_count": 27,
   "metadata": {},
   "outputs": [
    {
     "data": {
      "text/plain": [
       "SeniorCitizen  Churn\n",
       "0              No       76.393832\n",
       "               Yes      23.606168\n",
       "1              No       58.318739\n",
       "               Yes      41.681261\n",
       "Name: customerID, dtype: float64"
      ]
     },
     "execution_count": 27,
     "metadata": {},
     "output_type": "execute_result"
    }
   ],
   "source": [
    "telco_per_Churn=telco_df.groupby(['SeniorCitizen', 'Churn'])['customerID'].count()\n",
    "telco_per_Churn.groupby(level=0).apply(lambda x: 100*x/float(x.sum()))"
   ]
  },
  {
   "cell_type": "code",
   "execution_count": 28,
   "metadata": {},
   "outputs": [
    {
     "name": "stdout",
     "output_type": "stream",
     "text": [
      "SeniorCitizen  Churn\n",
      "0              No       4508\n",
      "               Yes      1393\n",
      "1              No        666\n",
      "               Yes       476\n",
      "Name: customerID, dtype: int64\n"
     ]
    }
   ],
   "source": [
    "print(telco_per_Churn)"
   ]
  },
  {
   "cell_type": "markdown",
   "metadata": {},
   "source": [
    "Now we will proceed to check tenure division of the clients with the company to observe their distribution and analyze if the client with more tenure is less likely to become churn."
   ]
  },
  {
   "cell_type": "code",
   "execution_count": 29,
   "metadata": {},
   "outputs": [
    {
     "data": {
      "text/plain": [
       "0.25     9.0\n",
       "0.50    29.0\n",
       "0.75    55.0\n",
       "1.00    72.0\n",
       "Name: tenure, dtype: float64"
      ]
     },
     "execution_count": 29,
     "metadata": {},
     "output_type": "execute_result"
    }
   ],
   "source": [
    "telco_df[\"tenure\"].quantile([.25,.5,.75,1])"
   ]
  },
  {
   "cell_type": "markdown",
   "metadata": {},
   "source": [
    "We note that tenure and churn could be 2 variables that will show us more insights about the data. Now we will proceed to check the client tenure by quantile by senior citizen and churn"
   ]
  },
  {
   "cell_type": "code",
   "execution_count": 30,
   "metadata": {},
   "outputs": [
    {
     "data": {
      "text/plain": [
       "Text(0, 0.5, 'Frequency')"
      ]
     },
     "execution_count": 30,
     "metadata": {},
     "output_type": "execute_result"
    },
    {
     "data": {
      "image/png": "[encoded data removed]",
      "text/plain": [
       "<Figure size 432x288 with 1 Axes>"
      ]
     },
     "metadata": {
      "needs_background": "light"
     },
     "output_type": "display_data"
    }
   ],
   "source": [
    "plt.hist(telco_df[\"tenure\"])\n",
    "plt.xlabel('tenure')\n",
    "plt.ylabel('Frequency')"
   ]
  },
  {
   "cell_type": "code",
   "execution_count": 31,
   "metadata": {},
   "outputs": [
    {
     "data": {
      "text/html": [
       "<div>\n",
       "<style scoped>\n",
       "    .dataframe tbody tr th:only-of-type {\n",
       "        vertical-align: middle;\n",
       "    }\n",
       "\n",
       "    .dataframe tbody tr th {\n",
       "        vertical-align: top;\n",
       "    }\n",
       "\n",
       "    .dataframe thead th {\n",
       "        text-align: right;\n",
       "    }\n",
       "</style>\n",
       "<table border=\"1\" class=\"dataframe\">\n",
       "  <thead>\n",
       "    <tr style=\"text-align: right;\">\n",
       "      <th></th>\n",
       "      <th></th>\n",
       "      <th>Total</th>\n",
       "      <th>No_Churn</th>\n",
       "      <th>Yes_Churn</th>\n",
       "    </tr>\n",
       "    <tr>\n",
       "      <th>SeniorCitizen</th>\n",
       "      <th>tenure</th>\n",
       "      <th></th>\n",
       "      <th></th>\n",
       "      <th></th>\n",
       "    </tr>\n",
       "  </thead>\n",
       "  <tbody>\n",
       "    <tr>\n",
       "      <th rowspan=\"4\" valign=\"top\">0</th>\n",
       "      <th>9.0</th>\n",
       "      <td>1574.0</td>\n",
       "      <td>844.0</td>\n",
       "      <td>730.0</td>\n",
       "    </tr>\n",
       "    <tr>\n",
       "      <th>29.0</th>\n",
       "      <td>1441.0</td>\n",
       "      <td>1094.0</td>\n",
       "      <td>347.0</td>\n",
       "    </tr>\n",
       "    <tr>\n",
       "      <th>55.0</th>\n",
       "      <td>1420.0</td>\n",
       "      <td>1203.0</td>\n",
       "      <td>217.0</td>\n",
       "    </tr>\n",
       "    <tr>\n",
       "      <th>72.0</th>\n",
       "      <td>1466.0</td>\n",
       "      <td>1367.0</td>\n",
       "      <td>99.0</td>\n",
       "    </tr>\n",
       "    <tr>\n",
       "      <th rowspan=\"4\" valign=\"top\">1</th>\n",
       "      <th>9.0</th>\n",
       "      <td>292.0</td>\n",
       "      <td>89.0</td>\n",
       "      <td>203.0</td>\n",
       "    </tr>\n",
       "    <tr>\n",
       "      <th>29.0</th>\n",
       "      <td>277.0</td>\n",
       "      <td>143.0</td>\n",
       "      <td>134.0</td>\n",
       "    </tr>\n",
       "    <tr>\n",
       "      <th>55.0</th>\n",
       "      <td>300.0</td>\n",
       "      <td>194.0</td>\n",
       "      <td>106.0</td>\n",
       "    </tr>\n",
       "    <tr>\n",
       "      <th>72.0</th>\n",
       "      <td>273.0</td>\n",
       "      <td>240.0</td>\n",
       "      <td>33.0</td>\n",
       "    </tr>\n",
       "  </tbody>\n",
       "</table>\n",
       "</div>"
      ],
      "text/plain": [
       "                       Total  No_Churn  Yes_Churn\n",
       "SeniorCitizen tenure                             \n",
       "0             9.0     1574.0     844.0      730.0\n",
       "              29.0    1441.0    1094.0      347.0\n",
       "              55.0    1420.0    1203.0      217.0\n",
       "              72.0    1466.0    1367.0       99.0\n",
       "1             9.0      292.0      89.0      203.0\n",
       "              29.0     277.0     143.0      134.0\n",
       "              55.0     300.0     194.0      106.0\n",
       "              72.0     273.0     240.0       33.0"
      ]
     },
     "execution_count": 31,
     "metadata": {},
     "output_type": "execute_result"
    }
   ],
   "source": [
    "quant_5=telco_df.sort_values(by='tenure').groupby(['SeniorCitizen','tenure'], as_index=False)[['customerID']].count()\n",
    "Q_T_NO_S_df=quant_5.loc[quant_5['SeniorCitizen']==0] \n",
    "telco_Q_T_NO_S=pd.DataFrame(Q_T_NO_S_df.cumsum().loc[telco_df[\"tenure\"].quantile([.25,.5,.75,1]).tolist(),\"customerID\"]).reset_index()\n",
    "telco_Q_T_NO_S = telco_Q_T_NO_S.rename(columns={'index':'tenure' ,'customerID': 'No_Senior'})\n",
    "telco_Q_T_NO_S['Data_lagged'] = telco_Q_T_NO_S['No_Senior'].shift(1)\n",
    "telco_Q_T_NO_S[\"Data_lagged\"] = telco_Q_T_NO_S[\"Data_lagged\"].fillna(0)\n",
    "telco_Q_T_NO_S[\"No_Senior_F\"]=telco_Q_T_NO_S[\"No_Senior\"]-telco_Q_T_NO_S[\"Data_lagged\"]\n",
    "telco_Q_T_NO_S=telco_Q_T_NO_S.drop(columns=['No_Senior','Data_lagged']) #Conteo de clientes No Senior que no son pérdida por cuartil de antiguedad\n",
    "\n",
    "quant_5_No=telco_df.sort_values(by='tenure').groupby(['Churn', 'SeniorCitizen','tenure'],as_index=False)[['customerID']].count()\n",
    "telco_Q_T_NO_S_NO=quant_5_No.loc[(quant_5_No['Churn']==\"No\") & (quant_5_No['SeniorCitizen']==0)]\n",
    "telco_Q_T_NO_S_NO=pd.DataFrame(telco_Q_T_NO_S_NO.cumsum().loc[telco_df[\"tenure\"].quantile([.25,.5,.75,1]).tolist(),\"customerID\"]).reset_index()\n",
    "telco_Q_T_NO_S_NO = telco_Q_T_NO_S_NO.rename(columns={'index':'tenure' ,'customerID': 'No_Senior_No_Churn'})\n",
    "telco_Q_T_NO_S_NO['Data_lagged'] = telco_Q_T_NO_S_NO['No_Senior_No_Churn'].shift(1)\n",
    "telco_Q_T_NO_S_NO[\"Data_lagged\"]=telco_Q_T_NO_S_NO[\"Data_lagged\"].fillna(0)\n",
    "telco_Q_T_NO_S_NO[\"No_Senior_No_Churn_F\"]=telco_Q_T_NO_S_NO[\"No_Senior_No_Churn\"]-telco_Q_T_NO_S_NO[\"Data_lagged\"]\n",
    "telco_Q_T_NO_S_NO=telco_Q_T_NO_S_NO.drop(columns=['No_Senior_No_Churn','Data_lagged']) #Conteo de clientes No Senior que no son pérdida por cuartil de antiguedad\n",
    "\n",
    "merged_No_S_No_Churn = pd.merge(left=telco_Q_T_NO_S, right=telco_Q_T_NO_S_NO, how='left', left_on='tenure', right_on='tenure')\n",
    "merged_No_S_No_Churn['No_Senior_Yes_Churn_F']=merged_No_S_No_Churn['No_Senior_F']-merged_No_S_No_Churn['No_Senior_No_Churn_F']\n",
    "merged_No_S_No_Churn['SeniorCitizen']=0\n",
    "merged_No_S_No_Churn = merged_No_S_No_Churn.rename(columns={'No_Senior_F':'Total' ,'No_Senior_No_Churn_F': 'No_Churn', 'No_Senior_Yes_Churn_F': 'Yes_Churn'})\n",
    "\n",
    "quant_6=telco_df.sort_values(by='tenure').groupby(['SeniorCitizen','tenure'], as_index=False)[['customerID']].count()\n",
    "Q_T_YES_S_df=quant_6.loc[quant_6['SeniorCitizen']==1].reset_index(drop=True)\n",
    "telco_Q_T_YES_S=pd.DataFrame(Q_T_YES_S_df.cumsum().loc[telco_df[\"tenure\"].quantile([.25,.5,.75,.93]).tolist(),\"customerID\"]).reset_index() # se ajustan cuartiles al .93 para que alcance el 100% de los datos\n",
    "telco_Q_T_YES_S['index']=telco_df[\"tenure\"].quantile([.25,.5,.75,1]).tolist()\n",
    "telco_Q_T_YES_S = telco_Q_T_YES_S.rename(columns={'index':'tenure' ,'customerID': 'Yes_Senior'})\n",
    "telco_Q_T_YES_S['Data_lagged'] = telco_Q_T_YES_S['Yes_Senior'].shift(1)\n",
    "telco_Q_T_YES_S[\"Data_lagged\"] = telco_Q_T_YES_S[\"Data_lagged\"].fillna(0)\n",
    "telco_Q_T_YES_S[\"Yes_Senior_F\"]=telco_Q_T_YES_S[\"Yes_Senior\"]-telco_Q_T_YES_S[\"Data_lagged\"]\n",
    "telco_Q_T_YES_S=telco_Q_T_YES_S.drop(columns=['Yes_Senior','Data_lagged']) #Conteo de clientes yES Senior que no son pérdida por cuartil de antiguedad\n",
    "\n",
    "quant_7=telco_df.sort_values(by='tenure').groupby(['Churn', 'SeniorCitizen','tenure'],as_index=False)[['customerID']].count()\n",
    "telco_Q_T_Yes_S_NO=quant_7.loc[(quant_7['Churn']==\"No\") & (quant_7['SeniorCitizen']==1)].reset_index(drop=True)\n",
    "telco_Q_T_Yes_S_NO=pd.DataFrame(telco_Q_T_Yes_S_NO.cumsum().loc[telco_df[\"tenure\"].quantile([.25,.5,.75,.93]).tolist(),\"customerID\"]).reset_index() # se ajustan cuartiles al .93 para que alcance el 100% de los datos\n",
    "telco_Q_T_Yes_S_NO['index']=telco_df[\"tenure\"].quantile([.25,.5,.75,1]).tolist()\n",
    "telco_Q_T_Yes_S_NO = telco_Q_T_Yes_S_NO.rename(columns={'index':'tenure' ,'customerID': 'Yes_Senior_No_Churn'})\n",
    "telco_Q_T_Yes_S_NO['Data_lagged'] = telco_Q_T_Yes_S_NO['Yes_Senior_No_Churn'].shift(1)\n",
    "telco_Q_T_Yes_S_NO[\"Data_lagged\"]=telco_Q_T_Yes_S_NO[\"Data_lagged\"].fillna(0)\n",
    "telco_Q_T_Yes_S_NO[\"Yes_Senior_No_Churn_F\"]=telco_Q_T_Yes_S_NO[\"Yes_Senior_No_Churn\"]-telco_Q_T_Yes_S_NO[\"Data_lagged\"]\n",
    "telco_Q_T_Yes_S_NO=telco_Q_T_Yes_S_NO.drop(columns=['Yes_Senior_No_Churn','Data_lagged']) #Conteo de clientes Yes Senior que no son pérdida por cuartil de antiguedad\n",
    "\n",
    "merged_Yes_S_No_Churn = pd.merge(left=telco_Q_T_YES_S, right=telco_Q_T_Yes_S_NO, how='left', left_on='tenure', right_on='tenure')\n",
    "merged_Yes_S_No_Churn['Yes_Senior_Yes_Churn_F']=merged_Yes_S_No_Churn['Yes_Senior_F']-merged_Yes_S_No_Churn['Yes_Senior_No_Churn_F']\n",
    "merged_Yes_S_No_Churn['SeniorCitizen']=1\n",
    "merged_Yes_S_No_Churn = merged_Yes_S_No_Churn.rename(columns={'Yes_Senior_F':'Total' ,'Yes_Senior_No_Churn_F': 'No_Churn', 'Yes_Senior_Yes_Churn_F': 'Yes_Churn'})\n",
    "\n",
    "telco_DF_Q_F_T=pd.concat([merged_No_S_No_Churn, merged_Yes_S_No_Churn])\n",
    "telco_DF_Q_F_T = telco_DF_Q_F_T[[ \"SeniorCitizen\",\"tenure\", \"Total\", \"No_Churn\", \"Yes_Churn\"]]\n",
    "telco_DF_Q_F_T=telco_DF_Q_F_T.set_index(['SeniorCitizen','tenure'])\n",
    "telco_DF_Q_F_T                           "
   ]
  },
  {
   "cell_type": "markdown",
   "metadata": {},
   "source": [
    "The following result shows suggest that with more tenure the less likely the client will become churn; a strategy should be developed for the short term in order to minimize the churn rate. We will proceed to analyze the \"TotalCharges\" field by tenure quantile by senior citizen and churn."
   ]
  },
  {
   "cell_type": "code",
   "execution_count": 32,
   "metadata": {},
   "outputs": [
    {
     "data": {
      "text/html": [
       "<div>\n",
       "<style scoped>\n",
       "    .dataframe tbody tr th:only-of-type {\n",
       "        vertical-align: middle;\n",
       "    }\n",
       "\n",
       "    .dataframe tbody tr th {\n",
       "        vertical-align: top;\n",
       "    }\n",
       "\n",
       "    .dataframe thead th {\n",
       "        text-align: right;\n",
       "    }\n",
       "</style>\n",
       "<table border=\"1\" class=\"dataframe\">\n",
       "  <thead>\n",
       "    <tr style=\"text-align: right;\">\n",
       "      <th></th>\n",
       "      <th></th>\n",
       "      <th>Total</th>\n",
       "      <th>No_Churn</th>\n",
       "      <th>Yes_Churn</th>\n",
       "    </tr>\n",
       "    <tr>\n",
       "      <th>SeniorCitizen</th>\n",
       "      <th>tenure</th>\n",
       "      <th></th>\n",
       "      <th></th>\n",
       "      <th></th>\n",
       "    </tr>\n",
       "  </thead>\n",
       "  <tbody>\n",
       "    <tr>\n",
       "      <th rowspan=\"4\" valign=\"top\">0</th>\n",
       "      <th>9.0</th>\n",
       "      <td>22.348431</td>\n",
       "      <td>16.312331</td>\n",
       "      <td>39.058320</td>\n",
       "    </tr>\n",
       "    <tr>\n",
       "      <th>29.0</th>\n",
       "      <td>20.460031</td>\n",
       "      <td>21.144182</td>\n",
       "      <td>18.566078</td>\n",
       "    </tr>\n",
       "    <tr>\n",
       "      <th>55.0</th>\n",
       "      <td>20.161863</td>\n",
       "      <td>23.250870</td>\n",
       "      <td>11.610487</td>\n",
       "    </tr>\n",
       "    <tr>\n",
       "      <th>72.0</th>\n",
       "      <td>20.814994</td>\n",
       "      <td>26.420564</td>\n",
       "      <td>5.296950</td>\n",
       "    </tr>\n",
       "    <tr>\n",
       "      <th rowspan=\"4\" valign=\"top\">1</th>\n",
       "      <th>9.0</th>\n",
       "      <td>4.145961</td>\n",
       "      <td>1.720139</td>\n",
       "      <td>10.861423</td>\n",
       "    </tr>\n",
       "    <tr>\n",
       "      <th>29.0</th>\n",
       "      <td>3.932983</td>\n",
       "      <td>2.763819</td>\n",
       "      <td>7.169609</td>\n",
       "    </tr>\n",
       "    <tr>\n",
       "      <th>55.0</th>\n",
       "      <td>4.259548</td>\n",
       "      <td>3.749517</td>\n",
       "      <td>5.671482</td>\n",
       "    </tr>\n",
       "    <tr>\n",
       "      <th>72.0</th>\n",
       "      <td>3.876189</td>\n",
       "      <td>4.638578</td>\n",
       "      <td>1.765650</td>\n",
       "    </tr>\n",
       "  </tbody>\n",
       "</table>\n",
       "</div>"
      ],
      "text/plain": [
       "                          Total   No_Churn  Yes_Churn\n",
       "SeniorCitizen tenure                                 \n",
       "0             9.0     22.348431  16.312331  39.058320\n",
       "              29.0    20.460031  21.144182  18.566078\n",
       "              55.0    20.161863  23.250870  11.610487\n",
       "              72.0    20.814994  26.420564   5.296950\n",
       "1             9.0      4.145961   1.720139  10.861423\n",
       "              29.0     3.932983   2.763819   7.169609\n",
       "              55.0     4.259548   3.749517   5.671482\n",
       "              72.0     3.876189   4.638578   1.765650"
      ]
     },
     "execution_count": 32,
     "metadata": {},
     "output_type": "execute_result"
    }
   ],
   "source": [
    "telco_DF_Q_F_T.apply(lambda x: 100*x/float(x.sum()))"
   ]
  },
  {
   "cell_type": "code",
   "execution_count": 33,
   "metadata": {
    "scrolled": true
   },
   "outputs": [
    {
     "data": {
      "text/html": [
       "<div>\n",
       "<style scoped>\n",
       "    .dataframe tbody tr th:only-of-type {\n",
       "        vertical-align: middle;\n",
       "    }\n",
       "\n",
       "    .dataframe tbody tr th {\n",
       "        vertical-align: top;\n",
       "    }\n",
       "\n",
       "    .dataframe thead th {\n",
       "        text-align: right;\n",
       "    }\n",
       "</style>\n",
       "<table border=\"1\" class=\"dataframe\">\n",
       "  <thead>\n",
       "    <tr style=\"text-align: right;\">\n",
       "      <th></th>\n",
       "      <th></th>\n",
       "      <th>TotalCharges</th>\n",
       "      <th>No_Churn</th>\n",
       "      <th>Yes_Churn</th>\n",
       "    </tr>\n",
       "    <tr>\n",
       "      <th>SeniorCitizen</th>\n",
       "      <th>tenure</th>\n",
       "      <th></th>\n",
       "      <th></th>\n",
       "      <th></th>\n",
       "    </tr>\n",
       "  </thead>\n",
       "  <tbody>\n",
       "    <tr>\n",
       "      <th rowspan=\"4\" valign=\"top\">0</th>\n",
       "      <th>9.0</th>\n",
       "      <td>329971.775</td>\n",
       "      <td>175307.375</td>\n",
       "      <td>154664.40</td>\n",
       "    </tr>\n",
       "    <tr>\n",
       "      <th>29.0</th>\n",
       "      <td>1553724.350</td>\n",
       "      <td>1090053.050</td>\n",
       "      <td>463671.30</td>\n",
       "    </tr>\n",
       "    <tr>\n",
       "      <th>55.0</th>\n",
       "      <td>3910714.800</td>\n",
       "      <td>3145845.100</td>\n",
       "      <td>764869.70</td>\n",
       "    </tr>\n",
       "    <tr>\n",
       "      <th>72.0</th>\n",
       "      <td>7067578.750</td>\n",
       "      <td>6470262.400</td>\n",
       "      <td>597316.35</td>\n",
       "    </tr>\n",
       "    <tr>\n",
       "      <th rowspan=\"4\" valign=\"top\">1</th>\n",
       "      <th>9.0</th>\n",
       "      <td>83919.550</td>\n",
       "      <td>27963.150</td>\n",
       "      <td>55956.40</td>\n",
       "    </tr>\n",
       "    <tr>\n",
       "      <th>29.0</th>\n",
       "      <td>443388.600</td>\n",
       "      <td>221490.550</td>\n",
       "      <td>221898.05</td>\n",
       "    </tr>\n",
       "    <tr>\n",
       "      <th>55.0</th>\n",
       "      <td>1098487.600</td>\n",
       "      <td>695294.850</td>\n",
       "      <td>403192.75</td>\n",
       "    </tr>\n",
       "    <tr>\n",
       "      <th>72.0</th>\n",
       "      <td>1583755.500</td>\n",
       "      <td>1382397.550</td>\n",
       "      <td>201357.95</td>\n",
       "    </tr>\n",
       "  </tbody>\n",
       "</table>\n",
       "</div>"
      ],
      "text/plain": [
       "                      TotalCharges     No_Churn  Yes_Churn\n",
       "SeniorCitizen tenure                                      \n",
       "0             9.0       329971.775   175307.375  154664.40\n",
       "              29.0     1553724.350  1090053.050  463671.30\n",
       "              55.0     3910714.800  3145845.100  764869.70\n",
       "              72.0     7067578.750  6470262.400  597316.35\n",
       "1             9.0        83919.550    27963.150   55956.40\n",
       "              29.0      443388.600   221490.550  221898.05\n",
       "              55.0     1098487.600   695294.850  403192.75\n",
       "              72.0     1583755.500  1382397.550  201357.95"
      ]
     },
     "execution_count": 33,
     "metadata": {},
     "output_type": "execute_result"
    }
   ],
   "source": [
    "quant_1=telco_df.sort_values(by='tenure').groupby(['SeniorCitizen','tenure'], as_index=False)[['TotalCharges']].sum()\n",
    "Q_S_NO_S_df=quant_1.loc[quant_1['SeniorCitizen']==0] \n",
    "telco_Q_S_NO_S=pd.DataFrame(Q_S_NO_S_df.cumsum().loc[telco_df[\"tenure\"].quantile([.25,.5,.75,1]).tolist(),\"TotalCharges\"]).reset_index()\n",
    "telco_Q_S_NO_S = telco_Q_S_NO_S.rename(columns={'index':'tenure' ,'TotalCharges': 'No_Senior'})\n",
    "telco_Q_S_NO_S['Data_lagged'] = telco_Q_S_NO_S['No_Senior'].shift(1)\n",
    "telco_Q_S_NO_S[\"Data_lagged\"] = telco_Q_S_NO_S[\"Data_lagged\"].fillna(0)\n",
    "telco_Q_S_NO_S[\"No_Senior_F\"]=telco_Q_S_NO_S[\"No_Senior\"]-telco_Q_S_NO_S[\"Data_lagged\"]\n",
    "telco_Q_S_NO_S=telco_Q_S_NO_S.drop(columns=['No_Senior','Data_lagged']) # Total amount by No Senior clients by tenure quantile.\n",
    "\n",
    "quant_2=telco_df.sort_values(by='tenure').groupby(['Churn', 'SeniorCitizen','tenure'],as_index=False)[['TotalCharges']].sum()\n",
    "telco_Q_S_NO_S_NO=quant_2.loc[(quant_2['Churn']==\"No\") & (quant_2['SeniorCitizen']==0)]\n",
    "telco_Q_S_NO_S_NO=pd.DataFrame(telco_Q_S_NO_S_NO.cumsum().loc[telco_df[\"tenure\"].quantile([.25,.5,.75,1]).tolist(),\"TotalCharges\"]).reset_index()\n",
    "telco_Q_S_NO_S_NO = telco_Q_S_NO_S_NO.rename(columns={'index':'tenure' ,'TotalCharges': 'No_Senior_No_Churn'})\n",
    "telco_Q_S_NO_S_NO['Data_lagged'] = telco_Q_S_NO_S_NO['No_Senior_No_Churn'].shift(1)\n",
    "telco_Q_S_NO_S_NO[\"Data_lagged\"]=telco_Q_S_NO_S_NO[\"Data_lagged\"].fillna(0)\n",
    "telco_Q_S_NO_S_NO[\"No_Senior_No_Churn_F\"]=telco_Q_S_NO_S_NO[\"No_Senior_No_Churn\"]-telco_Q_S_NO_S_NO[\"Data_lagged\"]\n",
    "telco_Q_S_NO_S_NO=telco_Q_S_NO_S_NO.drop(columns=['No_Senior_No_Churn','Data_lagged']) # Total amount by No Senior clients, which are not churn by tenure quantile.\n",
    "\n",
    "\n",
    "merged_S_No_S_No_Churn = pd.merge(left=telco_Q_S_NO_S, right=telco_Q_S_NO_S_NO, how='left', left_on='tenure', right_on='tenure')\n",
    "merged_S_No_S_No_Churn['No_Senior_Yes_Churn_F']=merged_S_No_S_No_Churn['No_Senior_F']-merged_S_No_S_No_Churn['No_Senior_No_Churn_F']\n",
    "merged_S_No_S_No_Churn['SeniorCitizen']=0\n",
    "merged_S_No_S_No_Churn = merged_S_No_S_No_Churn.rename(columns={'No_Senior_F':'TotalCharges' ,'No_Senior_No_Churn_F': 'No_Churn', 'No_Senior_Yes_Churn_F': 'Yes_Churn'})\n",
    "\n",
    "quant_3=telco_df.sort_values(by='tenure').groupby(['SeniorCitizen','tenure'], as_index=False)[['TotalCharges']].sum()\n",
    "Q_S_YES_S_df=quant_3.loc[quant_3['SeniorCitizen']==1].reset_index(drop=True)\n",
    "telco_Q_S_YES_S=pd.DataFrame(Q_S_YES_S_df.cumsum().loc[telco_df[\"tenure\"].quantile([.25,.5,.75,.93]).tolist(),\"TotalCharges\"]).reset_index() \n",
    "telco_Q_S_YES_S['index']=telco_df[\"tenure\"].quantile([.25,.5,.75,1]).tolist()\n",
    "telco_Q_S_YES_S = telco_Q_S_YES_S.rename(columns={'index':'tenure' ,'TotalCharges': 'Yes_Senior'})\n",
    "telco_Q_S_YES_S['Data_lagged'] = telco_Q_S_YES_S['Yes_Senior'].shift(1)\n",
    "telco_Q_S_YES_S[\"Data_lagged\"] = telco_Q_S_YES_S[\"Data_lagged\"].fillna(0)\n",
    "telco_Q_S_YES_S[\"Yes_Senior_F\"]=telco_Q_S_YES_S[\"Yes_Senior\"]-telco_Q_S_YES_S[\"Data_lagged\"]\n",
    "telco_Q_S_YES_S=telco_Q_S_YES_S.drop(columns=['Yes_Senior','Data_lagged']) # Total amount by Senior clients, by tenure quantile.\n",
    "\n",
    "quant_4=telco_df.sort_values(by='tenure').groupby(['Churn', 'SeniorCitizen','tenure'],as_index=False)[['TotalCharges']].sum()\n",
    "telco_Q_S_Yes_S_NO=quant_4.loc[(quant_4['Churn']==\"No\") & (quant_4['SeniorCitizen']==1)].reset_index(drop=True)\n",
    "telco_Q_S_Yes_S_NO=pd.DataFrame(telco_Q_S_Yes_S_NO.cumsum().loc[telco_df[\"tenure\"].quantile([.25,.5,.75,.93]).tolist(),\"TotalCharges\"]).reset_index() \n",
    "telco_Q_S_Yes_S_NO['index']=telco_df[\"tenure\"].quantile([.25,.5,.75,1]).tolist()\n",
    "telco_Q_S_Yes_S_NO = telco_Q_S_Yes_S_NO.rename(columns={'index':'tenure' ,'TotalCharges': 'Yes_Senior_No_Churn'})\n",
    "telco_Q_S_Yes_S_NO['Data_lagged'] = telco_Q_S_Yes_S_NO['Yes_Senior_No_Churn'].shift(1)\n",
    "telco_Q_S_Yes_S_NO[\"Data_lagged\"]=telco_Q_S_Yes_S_NO[\"Data_lagged\"].fillna(0)\n",
    "telco_Q_S_Yes_S_NO[\"Yes_Senior_No_Churn_F\"]=telco_Q_S_Yes_S_NO[\"Yes_Senior_No_Churn\"]-telco_Q_S_Yes_S_NO[\"Data_lagged\"]\n",
    "telco_Q_S_Yes_S_NO=telco_Q_S_Yes_S_NO.drop(columns=['Yes_Senior_No_Churn','Data_lagged']) # Total amount by Senior clients, which are churn by tenure quantile.\n",
    "\n",
    "merged_S_Yes_S_No_Churn = pd.merge(left=telco_Q_S_YES_S, right=telco_Q_S_Yes_S_NO, how='left', left_on='tenure', right_on='tenure')\n",
    "merged_S_Yes_S_No_Churn['Yes_Senior_Yes_Churn_F']=merged_S_Yes_S_No_Churn['Yes_Senior_F']-merged_S_Yes_S_No_Churn['Yes_Senior_No_Churn_F']\n",
    "merged_S_Yes_S_No_Churn['SeniorCitizen']=1\n",
    "merged_S_Yes_S_No_Churn = merged_S_Yes_S_No_Churn.rename(columns={'Yes_Senior_F':'TotalCharges' ,'Yes_Senior_No_Churn_F': 'No_Churn', 'Yes_Senior_Yes_Churn_F': 'Yes_Churn'})\n",
    "\n",
    "telco_DF_Q_F_S=pd.concat([merged_S_No_S_No_Churn, merged_S_Yes_S_No_Churn])\n",
    "telco_DF_Q_F_S = telco_DF_Q_F_S[[ \"SeniorCitizen\",\"tenure\", \"TotalCharges\", \"No_Churn\", \"Yes_Churn\"]]\n",
    "telco_DF_Q_F_S=telco_DF_Q_F_S.set_index(['SeniorCitizen','tenure'])\n",
    "telco_DF_Q_F_S    \n"
   ]
  },
  {
   "cell_type": "markdown",
   "metadata": {},
   "source": [
    "The result of this table is obvious, the longer the time with the services or services the longer the total spending that our clients had made. This result contrast with the preview one, because we have a higher volume of client churn in the lowest tenures but have a lower volume of spending. Now, we will proceed with the same format but, with the \"MonthlyCharges\" field."
   ]
  },
  {
   "cell_type": "code",
   "execution_count": 34,
   "metadata": {
    "scrolled": true
   },
   "outputs": [
    {
     "data": {
      "text/html": [
       "<div>\n",
       "<style scoped>\n",
       "    .dataframe tbody tr th:only-of-type {\n",
       "        vertical-align: middle;\n",
       "    }\n",
       "\n",
       "    .dataframe tbody tr th {\n",
       "        vertical-align: top;\n",
       "    }\n",
       "\n",
       "    .dataframe thead th {\n",
       "        text-align: right;\n",
       "    }\n",
       "</style>\n",
       "<table border=\"1\" class=\"dataframe\">\n",
       "  <thead>\n",
       "    <tr style=\"text-align: right;\">\n",
       "      <th></th>\n",
       "      <th></th>\n",
       "      <th>TotalCharges</th>\n",
       "      <th>No_Churn</th>\n",
       "      <th>Yes_Churn</th>\n",
       "    </tr>\n",
       "    <tr>\n",
       "      <th>SeniorCitizen</th>\n",
       "      <th>tenure</th>\n",
       "      <th></th>\n",
       "      <th></th>\n",
       "      <th></th>\n",
       "    </tr>\n",
       "  </thead>\n",
       "  <tbody>\n",
       "    <tr>\n",
       "      <th rowspan=\"4\" valign=\"top\">0</th>\n",
       "      <th>9.0</th>\n",
       "      <td>2.053143</td>\n",
       "      <td>1.327220</td>\n",
       "      <td>5.402317</td>\n",
       "    </tr>\n",
       "    <tr>\n",
       "      <th>29.0</th>\n",
       "      <td>9.667551</td>\n",
       "      <td>8.252592</td>\n",
       "      <td>16.195709</td>\n",
       "    </tr>\n",
       "    <tr>\n",
       "      <th>55.0</th>\n",
       "      <td>24.333166</td>\n",
       "      <td>23.816618</td>\n",
       "      <td>26.716355</td>\n",
       "    </tr>\n",
       "    <tr>\n",
       "      <th>72.0</th>\n",
       "      <td>43.975738</td>\n",
       "      <td>48.985173</td>\n",
       "      <td>20.863835</td>\n",
       "    </tr>\n",
       "    <tr>\n",
       "      <th rowspan=\"4\" valign=\"top\">1</th>\n",
       "      <th>9.0</th>\n",
       "      <td>0.522162</td>\n",
       "      <td>0.211704</td>\n",
       "      <td>1.954517</td>\n",
       "    </tr>\n",
       "    <tr>\n",
       "      <th>29.0</th>\n",
       "      <td>2.758843</td>\n",
       "      <td>1.676864</td>\n",
       "      <td>7.750741</td>\n",
       "    </tr>\n",
       "    <tr>\n",
       "      <th>55.0</th>\n",
       "      <td>6.834986</td>\n",
       "      <td>5.263950</td>\n",
       "      <td>14.083236</td>\n",
       "    </tr>\n",
       "    <tr>\n",
       "      <th>72.0</th>\n",
       "      <td>9.854410</td>\n",
       "      <td>10.465879</td>\n",
       "      <td>7.033290</td>\n",
       "    </tr>\n",
       "  </tbody>\n",
       "</table>\n",
       "</div>"
      ],
      "text/plain": [
       "                      TotalCharges   No_Churn  Yes_Churn\n",
       "SeniorCitizen tenure                                    \n",
       "0             9.0         2.053143   1.327220   5.402317\n",
       "              29.0        9.667551   8.252592  16.195709\n",
       "              55.0       24.333166  23.816618  26.716355\n",
       "              72.0       43.975738  48.985173  20.863835\n",
       "1             9.0         0.522162   0.211704   1.954517\n",
       "              29.0        2.758843   1.676864   7.750741\n",
       "              55.0        6.834986   5.263950  14.083236\n",
       "              72.0        9.854410  10.465879   7.033290"
      ]
     },
     "execution_count": 34,
     "metadata": {},
     "output_type": "execute_result"
    }
   ],
   "source": [
    "telco_DF_Q_F_S.apply(lambda x: 100*x/float(x.sum()))"
   ]
  },
  {
   "cell_type": "code",
   "execution_count": 35,
   "metadata": {
    "scrolled": true
   },
   "outputs": [
    {
     "data": {
      "text/html": [
       "<div>\n",
       "<style scoped>\n",
       "    .dataframe tbody tr th:only-of-type {\n",
       "        vertical-align: middle;\n",
       "    }\n",
       "\n",
       "    .dataframe tbody tr th {\n",
       "        vertical-align: top;\n",
       "    }\n",
       "\n",
       "    .dataframe thead th {\n",
       "        text-align: right;\n",
       "    }\n",
       "</style>\n",
       "<table border=\"1\" class=\"dataframe\">\n",
       "  <thead>\n",
       "    <tr style=\"text-align: right;\">\n",
       "      <th></th>\n",
       "      <th></th>\n",
       "      <th>MonthlyCharges</th>\n",
       "      <th>No_Churn</th>\n",
       "      <th>Yes_Churn</th>\n",
       "    </tr>\n",
       "    <tr>\n",
       "      <th>SeniorCitizen</th>\n",
       "      <th>tenure</th>\n",
       "      <th></th>\n",
       "      <th></th>\n",
       "      <th></th>\n",
       "    </tr>\n",
       "  </thead>\n",
       "  <tbody>\n",
       "    <tr>\n",
       "      <th rowspan=\"4\" valign=\"top\">0</th>\n",
       "      <th>9.0</th>\n",
       "      <td>83938.30</td>\n",
       "      <td>37610.70</td>\n",
       "      <td>46327.60</td>\n",
       "    </tr>\n",
       "    <tr>\n",
       "      <th>29.0</th>\n",
       "      <td>83115.05</td>\n",
       "      <td>56301.35</td>\n",
       "      <td>26813.70</td>\n",
       "    </tr>\n",
       "    <tr>\n",
       "      <th>55.0</th>\n",
       "      <td>91392.55</td>\n",
       "      <td>73095.60</td>\n",
       "      <td>18296.95</td>\n",
       "    </tr>\n",
       "    <tr>\n",
       "      <th>72.0</th>\n",
       "      <td>106515.85</td>\n",
       "      <td>97242.85</td>\n",
       "      <td>9273.00</td>\n",
       "    </tr>\n",
       "    <tr>\n",
       "      <th rowspan=\"4\" valign=\"top\">1</th>\n",
       "      <th>9.0</th>\n",
       "      <td>20289.90</td>\n",
       "      <td>5719.75</td>\n",
       "      <td>14570.15</td>\n",
       "    </tr>\n",
       "    <tr>\n",
       "      <th>29.0</th>\n",
       "      <td>21863.05</td>\n",
       "      <td>10600.85</td>\n",
       "      <td>11262.20</td>\n",
       "    </tr>\n",
       "    <tr>\n",
       "      <th>55.0</th>\n",
       "      <td>25213.85</td>\n",
       "      <td>15722.90</td>\n",
       "      <td>9490.95</td>\n",
       "    </tr>\n",
       "    <tr>\n",
       "      <th>72.0</th>\n",
       "      <td>23788.05</td>\n",
       "      <td>20691.75</td>\n",
       "      <td>3096.30</td>\n",
       "    </tr>\n",
       "  </tbody>\n",
       "</table>\n",
       "</div>"
      ],
      "text/plain": [
       "                      MonthlyCharges  No_Churn  Yes_Churn\n",
       "SeniorCitizen tenure                                     \n",
       "0             9.0           83938.30  37610.70   46327.60\n",
       "              29.0          83115.05  56301.35   26813.70\n",
       "              55.0          91392.55  73095.60   18296.95\n",
       "              72.0         106515.85  97242.85    9273.00\n",
       "1             9.0           20289.90   5719.75   14570.15\n",
       "              29.0          21863.05  10600.85   11262.20\n",
       "              55.0          25213.85  15722.90    9490.95\n",
       "              72.0          23788.05  20691.75    3096.30"
      ]
     },
     "execution_count": 35,
     "metadata": {},
     "output_type": "execute_result"
    }
   ],
   "source": [
    "quant_1=telco_df.sort_values(by='tenure').groupby(['SeniorCitizen','tenure'], as_index=False)[['MonthlyCharges']].sum()\n",
    "Q_S_NO_S_df=quant_1.loc[quant_1['SeniorCitizen']==0] \n",
    "telco_Q_S_NO_S=pd.DataFrame(Q_S_NO_S_df.cumsum().loc[telco_df[\"tenure\"].quantile([.25,.5,.75,1]).tolist(),\"MonthlyCharges\"]).reset_index()\n",
    "telco_Q_S_NO_S = telco_Q_S_NO_S.rename(columns={'index':'tenure' ,'MonthlyCharges': 'No_Senior'})\n",
    "telco_Q_S_NO_S['Data_lagged'] = telco_Q_S_NO_S['No_Senior'].shift(1)\n",
    "telco_Q_S_NO_S[\"Data_lagged\"] = telco_Q_S_NO_S[\"Data_lagged\"].fillna(0)\n",
    "telco_Q_S_NO_S[\"No_Senior_F\"]=telco_Q_S_NO_S[\"No_Senior\"]-telco_Q_S_NO_S[\"Data_lagged\"]\n",
    "telco_Q_S_NO_S=telco_Q_S_NO_S.drop(columns=['No_Senior','Data_lagged']) # Total Monthly amount by No Senior clients by tenure quantile.\n",
    "\n",
    "quant_2=telco_df.sort_values(by='tenure').groupby(['Churn', 'SeniorCitizen','tenure'],as_index=False)[['MonthlyCharges']].sum()\n",
    "telco_Q_S_NO_S_NO=quant_2.loc[(quant_2['Churn']==\"No\") & (quant_2['SeniorCitizen']==0)]\n",
    "telco_Q_S_NO_S_NO=pd.DataFrame(telco_Q_S_NO_S_NO.cumsum().loc[telco_df[\"tenure\"].quantile([.25,.5,.75,1]).tolist(),\"MonthlyCharges\"]).reset_index()\n",
    "telco_Q_S_NO_S_NO = telco_Q_S_NO_S_NO.rename(columns={'index':'tenure' ,'MonthlyCharges': 'No_Senior_No_Churn'})\n",
    "telco_Q_S_NO_S_NO['Data_lagged'] = telco_Q_S_NO_S_NO['No_Senior_No_Churn'].shift(1)\n",
    "telco_Q_S_NO_S_NO[\"Data_lagged\"]=telco_Q_S_NO_S_NO[\"Data_lagged\"].fillna(0)\n",
    "telco_Q_S_NO_S_NO[\"No_Senior_No_Churn_F\"]=telco_Q_S_NO_S_NO[\"No_Senior_No_Churn\"]-telco_Q_S_NO_S_NO[\"Data_lagged\"]\n",
    "telco_Q_S_NO_S_NO=telco_Q_S_NO_S_NO.drop(columns=['No_Senior_No_Churn','Data_lagged']) # Total Monthly amount by No Senior clients, which are not churn by tenure quantile.\n",
    "\n",
    "\n",
    "merged_S_No_S_No_Churn = pd.merge(left=telco_Q_S_NO_S, right=telco_Q_S_NO_S_NO, how='left', left_on='tenure', right_on='tenure')\n",
    "merged_S_No_S_No_Churn['No_Senior_Yes_Churn_F']=merged_S_No_S_No_Churn['No_Senior_F']-merged_S_No_S_No_Churn['No_Senior_No_Churn_F']\n",
    "merged_S_No_S_No_Churn['SeniorCitizen']=0\n",
    "merged_S_No_S_No_Churn = merged_S_No_S_No_Churn.rename(columns={'No_Senior_F':'MonthlyCharges' ,'No_Senior_No_Churn_F': 'No_Churn', 'No_Senior_Yes_Churn_F': 'Yes_Churn'})\n",
    "\n",
    "quant_3=telco_df.sort_values(by='tenure').groupby(['SeniorCitizen','tenure'], as_index=False)[['MonthlyCharges']].sum()\n",
    "Q_S_YES_S_df=quant_3.loc[quant_3['SeniorCitizen']==1].reset_index(drop=True)\n",
    "telco_Q_S_YES_S=pd.DataFrame(Q_S_YES_S_df.cumsum().loc[telco_df[\"tenure\"].quantile([.25,.5,.75,.93]).tolist(),\"MonthlyCharges\"]).reset_index()\n",
    "telco_Q_S_YES_S['index']=telco_df[\"tenure\"].quantile([.25,.5,.75,1]).tolist()\n",
    "telco_Q_S_YES_S = telco_Q_S_YES_S.rename(columns={'index':'tenure' ,'MonthlyCharges': 'Yes_Senior'})\n",
    "telco_Q_S_YES_S['Data_lagged'] = telco_Q_S_YES_S['Yes_Senior'].shift(1)\n",
    "telco_Q_S_YES_S[\"Data_lagged\"] = telco_Q_S_YES_S[\"Data_lagged\"].fillna(0)\n",
    "telco_Q_S_YES_S[\"Yes_Senior_F\"]=telco_Q_S_YES_S[\"Yes_Senior\"]-telco_Q_S_YES_S[\"Data_lagged\"]\n",
    "telco_Q_S_YES_S=telco_Q_S_YES_S.drop(columns=['Yes_Senior','Data_lagged']) # Total Monthly amount by Senior clients by tenure quantile.\n",
    "\n",
    "quant_4=telco_df.sort_values(by='tenure').groupby(['Churn', 'SeniorCitizen','tenure'],as_index=False)[['MonthlyCharges']].sum()\n",
    "telco_Q_S_Yes_S_NO=quant_4.loc[(quant_4['Churn']==\"No\") & (quant_4['SeniorCitizen']==1)].reset_index(drop=True)\n",
    "telco_Q_S_Yes_S_NO=pd.DataFrame(telco_Q_S_Yes_S_NO.cumsum().loc[telco_df[\"tenure\"].quantile([.25,.5,.75,.93]).tolist(),\"MonthlyCharges\"]).reset_index() \n",
    "telco_Q_S_Yes_S_NO['index']=telco_df[\"tenure\"].quantile([.25,.5,.75,1]).tolist()\n",
    "telco_Q_S_Yes_S_NO = telco_Q_S_Yes_S_NO.rename(columns={'index':'tenure' ,'MonthlyCharges': 'Yes_Senior_No_Churn'})\n",
    "telco_Q_S_Yes_S_NO['Data_lagged'] = telco_Q_S_Yes_S_NO['Yes_Senior_No_Churn'].shift(1)\n",
    "telco_Q_S_Yes_S_NO[\"Data_lagged\"]=telco_Q_S_Yes_S_NO[\"Data_lagged\"].fillna(0)\n",
    "telco_Q_S_Yes_S_NO[\"Yes_Senior_No_Churn_F\"]=telco_Q_S_Yes_S_NO[\"Yes_Senior_No_Churn\"]-telco_Q_S_Yes_S_NO[\"Data_lagged\"]\n",
    "telco_Q_S_Yes_S_NO=telco_Q_S_Yes_S_NO.drop(columns=['Yes_Senior_No_Churn','Data_lagged']) # Total Monthly amount by Senior clients, which are not churn by tenure quantile.\n",
    "merged_S_Yes_S_No_Churn = pd.merge(left=telco_Q_S_YES_S, right=telco_Q_S_Yes_S_NO, how='left', left_on='tenure', right_on='tenure')\n",
    "merged_S_Yes_S_No_Churn['Yes_Senior_Yes_Churn_F']=merged_S_Yes_S_No_Churn['Yes_Senior_F']-merged_S_Yes_S_No_Churn['Yes_Senior_No_Churn_F']\n",
    "merged_S_Yes_S_No_Churn['SeniorCitizen']=1\n",
    "merged_S_Yes_S_No_Churn = merged_S_Yes_S_No_Churn.rename(columns={'Yes_Senior_F':'MonthlyCharges' ,'Yes_Senior_No_Churn_F': 'No_Churn', 'Yes_Senior_Yes_Churn_F': 'Yes_Churn'})\n",
    "\n",
    "telco_DF_Q_M_S=pd.concat([merged_S_No_S_No_Churn, merged_S_Yes_S_No_Churn])\n",
    "telco_DF_Q_M_S = telco_DF_Q_M_S[[ \"SeniorCitizen\",\"tenure\", \"MonthlyCharges\", \"No_Churn\", \"Yes_Churn\"]]\n",
    "telco_DF_Q_M_S=telco_DF_Q_M_S.set_index(['SeniorCitizen','tenure'])\n",
    "telco_DF_Q_M_S    \n"
   ]
  },
  {
   "cell_type": "markdown",
   "metadata": {},
   "source": [
    "Surprisingly the volume of monthly charges of the clients that become churn is higher in the lowest tenure levels than in the higher tenure levels, this suggest an increase of cost of our services or the clients contracted a higher number of services and possibly suggest that the price was a reason to leave the service. We will proceed to check the 2 basic services of the company, the phone service, and the internet service."
   ]
  },
  {
   "cell_type": "code",
   "execution_count": 36,
   "metadata": {
    "scrolled": true
   },
   "outputs": [
    {
     "data": {
      "text/html": [
       "<div>\n",
       "<style scoped>\n",
       "    .dataframe tbody tr th:only-of-type {\n",
       "        vertical-align: middle;\n",
       "    }\n",
       "\n",
       "    .dataframe tbody tr th {\n",
       "        vertical-align: top;\n",
       "    }\n",
       "\n",
       "    .dataframe thead th {\n",
       "        text-align: right;\n",
       "    }\n",
       "</style>\n",
       "<table border=\"1\" class=\"dataframe\">\n",
       "  <thead>\n",
       "    <tr style=\"text-align: right;\">\n",
       "      <th></th>\n",
       "      <th></th>\n",
       "      <th>MonthlyCharges</th>\n",
       "      <th>No_Churn</th>\n",
       "      <th>Yes_Churn</th>\n",
       "    </tr>\n",
       "    <tr>\n",
       "      <th>SeniorCitizen</th>\n",
       "      <th>tenure</th>\n",
       "      <th></th>\n",
       "      <th></th>\n",
       "      <th></th>\n",
       "    </tr>\n",
       "  </thead>\n",
       "  <tbody>\n",
       "    <tr>\n",
       "      <th rowspan=\"4\" valign=\"top\">0</th>\n",
       "      <th>9.0</th>\n",
       "      <td>18.402816</td>\n",
       "      <td>11.865108</td>\n",
       "      <td>33.297863</td>\n",
       "    </tr>\n",
       "    <tr>\n",
       "      <th>29.0</th>\n",
       "      <td>18.222325</td>\n",
       "      <td>17.761477</td>\n",
       "      <td>19.272289</td>\n",
       "    </tr>\n",
       "    <tr>\n",
       "      <th>55.0</th>\n",
       "      <td>20.037102</td>\n",
       "      <td>23.059585</td>\n",
       "      <td>13.150894</td>\n",
       "    </tr>\n",
       "    <tr>\n",
       "      <th>72.0</th>\n",
       "      <td>23.352768</td>\n",
       "      <td>30.677357</td>\n",
       "      <td>6.664949</td>\n",
       "    </tr>\n",
       "    <tr>\n",
       "      <th rowspan=\"4\" valign=\"top\">1</th>\n",
       "      <th>9.0</th>\n",
       "      <td>4.448402</td>\n",
       "      <td>1.804419</td>\n",
       "      <td>10.472264</td>\n",
       "    </tr>\n",
       "    <tr>\n",
       "      <th>29.0</th>\n",
       "      <td>4.793303</td>\n",
       "      <td>3.344267</td>\n",
       "      <td>8.094682</td>\n",
       "    </tr>\n",
       "    <tr>\n",
       "      <th>55.0</th>\n",
       "      <td>5.527940</td>\n",
       "      <td>4.960128</td>\n",
       "      <td>6.821600</td>\n",
       "    </tr>\n",
       "    <tr>\n",
       "      <th>72.0</th>\n",
       "      <td>5.215344</td>\n",
       "      <td>6.527659</td>\n",
       "      <td>2.225459</td>\n",
       "    </tr>\n",
       "  </tbody>\n",
       "</table>\n",
       "</div>"
      ],
      "text/plain": [
       "                      MonthlyCharges   No_Churn  Yes_Churn\n",
       "SeniorCitizen tenure                                      \n",
       "0             9.0          18.402816  11.865108  33.297863\n",
       "              29.0         18.222325  17.761477  19.272289\n",
       "              55.0         20.037102  23.059585  13.150894\n",
       "              72.0         23.352768  30.677357   6.664949\n",
       "1             9.0           4.448402   1.804419  10.472264\n",
       "              29.0          4.793303   3.344267   8.094682\n",
       "              55.0          5.527940   4.960128   6.821600\n",
       "              72.0          5.215344   6.527659   2.225459"
      ]
     },
     "execution_count": 36,
     "metadata": {},
     "output_type": "execute_result"
    }
   ],
   "source": [
    "telco_DF_Q_M_S.apply(lambda x: 100*x/float(x.sum()))"
   ]
  },
  {
   "cell_type": "markdown",
   "metadata": {},
   "source": [
    "Most of our clients has phone service, an outstanding 90%."
   ]
  },
  {
   "cell_type": "code",
   "execution_count": 37,
   "metadata": {},
   "outputs": [
    {
     "data": {
      "text/plain": [
       "Yes    6361\n",
       "No      682\n",
       "Name: PhoneService, dtype: int64"
      ]
     },
     "execution_count": 37,
     "metadata": {},
     "output_type": "execute_result"
    }
   ],
   "source": [
    "telco_df['PhoneService'].value_counts()"
   ]
  },
  {
   "cell_type": "code",
   "execution_count": 38,
   "metadata": {},
   "outputs": [
    {
     "data": {
      "text/plain": [
       "0.9031662643759761"
      ]
     },
     "execution_count": 38,
     "metadata": {},
     "output_type": "execute_result"
    }
   ],
   "source": [
    "6361/7043"
   ]
  },
  {
   "cell_type": "markdown",
   "metadata": {},
   "source": [
    "1 every 4 clients are churn with internet service, surprisingly the fastest internet service become the most churn percentage of customers with 1,268. Suggest that could be related with the services provided or the cost of the service."
   ]
  },
  {
   "cell_type": "code",
   "execution_count": 39,
   "metadata": {},
   "outputs": [
    {
     "data": {
      "text/html": [
       "<div>\n",
       "<style scoped>\n",
       "    .dataframe tbody tr th:only-of-type {\n",
       "        vertical-align: middle;\n",
       "    }\n",
       "\n",
       "    .dataframe tbody tr th {\n",
       "        vertical-align: top;\n",
       "    }\n",
       "\n",
       "    .dataframe thead th {\n",
       "        text-align: right;\n",
       "    }\n",
       "</style>\n",
       "<table border=\"1\" class=\"dataframe\">\n",
       "  <thead>\n",
       "    <tr style=\"text-align: right;\">\n",
       "      <th></th>\n",
       "      <th></th>\n",
       "      <th>customerID</th>\n",
       "    </tr>\n",
       "    <tr>\n",
       "      <th>Churn</th>\n",
       "      <th>InternetService</th>\n",
       "      <th></th>\n",
       "    </tr>\n",
       "  </thead>\n",
       "  <tbody>\n",
       "    <tr>\n",
       "      <th rowspan=\"3\" valign=\"top\">No</th>\n",
       "      <th>DSL</th>\n",
       "      <td>27.857447</td>\n",
       "    </tr>\n",
       "    <tr>\n",
       "      <th>Fiber optic</th>\n",
       "      <td>25.543092</td>\n",
       "    </tr>\n",
       "    <tr>\n",
       "      <th>No</th>\n",
       "      <td>20.062473</td>\n",
       "    </tr>\n",
       "    <tr>\n",
       "      <th rowspan=\"3\" valign=\"top\">Yes</th>\n",
       "      <th>DSL</th>\n",
       "      <td>6.517109</td>\n",
       "    </tr>\n",
       "    <tr>\n",
       "      <th>Fiber optic</th>\n",
       "      <td>18.415448</td>\n",
       "    </tr>\n",
       "    <tr>\n",
       "      <th>No</th>\n",
       "      <td>1.604430</td>\n",
       "    </tr>\n",
       "  </tbody>\n",
       "</table>\n",
       "</div>"
      ],
      "text/plain": [
       "                       customerID\n",
       "Churn InternetService            \n",
       "No    DSL               27.857447\n",
       "      Fiber optic       25.543092\n",
       "      No                20.062473\n",
       "Yes   DSL                6.517109\n",
       "      Fiber optic       18.415448\n",
       "      No                 1.604430"
      ]
     },
     "execution_count": 39,
     "metadata": {},
     "output_type": "execute_result"
    }
   ],
   "source": [
    "telco_df.groupby(['Churn','InternetService'])[['customerID']].count().apply(lambda x: 100*x/float(x.sum())) "
   ]
  },
  {
   "cell_type": "markdown",
   "metadata": {},
   "source": [
    "The billing method suggest that our clients with electronic check has higher probabilities of becoming churn clients due to the surprisingly 15% of churn clients on the electronic check payment method compared to the rest."
   ]
  },
  {
   "cell_type": "code",
   "execution_count": 40,
   "metadata": {},
   "outputs": [
    {
     "data": {
      "text/html": [
       "<div>\n",
       "<style scoped>\n",
       "    .dataframe tbody tr th:only-of-type {\n",
       "        vertical-align: middle;\n",
       "    }\n",
       "\n",
       "    .dataframe tbody tr th {\n",
       "        vertical-align: top;\n",
       "    }\n",
       "\n",
       "    .dataframe thead th {\n",
       "        text-align: right;\n",
       "    }\n",
       "</style>\n",
       "<table border=\"1\" class=\"dataframe\">\n",
       "  <thead>\n",
       "    <tr style=\"text-align: right;\">\n",
       "      <th></th>\n",
       "      <th></th>\n",
       "      <th>customerID</th>\n",
       "    </tr>\n",
       "    <tr>\n",
       "      <th>Churn</th>\n",
       "      <th>PaymentMethod</th>\n",
       "      <th></th>\n",
       "    </tr>\n",
       "  </thead>\n",
       "  <tbody>\n",
       "    <tr>\n",
       "      <th rowspan=\"4\" valign=\"top\">No</th>\n",
       "      <th>Bank transfer (automatic)</th>\n",
       "      <td>18.259265</td>\n",
       "    </tr>\n",
       "    <tr>\n",
       "      <th>Credit card (automatic)</th>\n",
       "      <td>18.316058</td>\n",
       "    </tr>\n",
       "    <tr>\n",
       "      <th>Electronic check</th>\n",
       "      <td>18.372852</td>\n",
       "    </tr>\n",
       "    <tr>\n",
       "      <th>Mailed check</th>\n",
       "      <td>18.514837</td>\n",
       "    </tr>\n",
       "    <tr>\n",
       "      <th rowspan=\"4\" valign=\"top\">Yes</th>\n",
       "      <th>Bank transfer (automatic)</th>\n",
       "      <td>3.663212</td>\n",
       "    </tr>\n",
       "    <tr>\n",
       "      <th>Credit card (automatic)</th>\n",
       "      <td>3.294051</td>\n",
       "    </tr>\n",
       "    <tr>\n",
       "      <th>Electronic check</th>\n",
       "      <td>15.206588</td>\n",
       "    </tr>\n",
       "    <tr>\n",
       "      <th>Mailed check</th>\n",
       "      <td>4.373136</td>\n",
       "    </tr>\n",
       "  </tbody>\n",
       "</table>\n",
       "</div>"
      ],
      "text/plain": [
       "                                 customerID\n",
       "Churn PaymentMethod                        \n",
       "No    Bank transfer (automatic)   18.259265\n",
       "      Credit card (automatic)     18.316058\n",
       "      Electronic check            18.372852\n",
       "      Mailed check                18.514837\n",
       "Yes   Bank transfer (automatic)    3.663212\n",
       "      Credit card (automatic)      3.294051\n",
       "      Electronic check            15.206588\n",
       "      Mailed check                 4.373136"
      ]
     },
     "execution_count": 40,
     "metadata": {},
     "output_type": "execute_result"
    }
   ],
   "source": [
    "telco_df.groupby(['Churn','PaymentMethod'])[['customerID']].count().apply(lambda x: 100*x/float(x.sum()))"
   ]
  },
  {
   "cell_type": "markdown",
   "metadata": {},
   "source": [
    "In addition, paperless billing suggests that customers that have paperless billing have higher chances to become churn. We will proceed to check if customers with dependents or partners have a different behavior but, first we will check customer contracts."
   ]
  },
  {
   "cell_type": "code",
   "execution_count": 41,
   "metadata": {},
   "outputs": [
    {
     "data": {
      "text/html": [
       "<div>\n",
       "<style scoped>\n",
       "    .dataframe tbody tr th:only-of-type {\n",
       "        vertical-align: middle;\n",
       "    }\n",
       "\n",
       "    .dataframe tbody tr th {\n",
       "        vertical-align: top;\n",
       "    }\n",
       "\n",
       "    .dataframe thead th {\n",
       "        text-align: right;\n",
       "    }\n",
       "</style>\n",
       "<table border=\"1\" class=\"dataframe\">\n",
       "  <thead>\n",
       "    <tr style=\"text-align: right;\">\n",
       "      <th></th>\n",
       "      <th></th>\n",
       "      <th>customerID</th>\n",
       "    </tr>\n",
       "    <tr>\n",
       "      <th>Churn</th>\n",
       "      <th>Contract</th>\n",
       "      <th></th>\n",
       "    </tr>\n",
       "  </thead>\n",
       "  <tbody>\n",
       "    <tr>\n",
       "      <th rowspan=\"3\" valign=\"top\">No</th>\n",
       "      <th>Month-to-month</th>\n",
       "      <td>31.520659</td>\n",
       "    </tr>\n",
       "    <tr>\n",
       "      <th>One year</th>\n",
       "      <td>18.557433</td>\n",
       "    </tr>\n",
       "    <tr>\n",
       "      <th>Two year</th>\n",
       "      <td>23.384921</td>\n",
       "    </tr>\n",
       "    <tr>\n",
       "      <th rowspan=\"3\" valign=\"top\">Yes</th>\n",
       "      <th>Month-to-month</th>\n",
       "      <td>23.498509</td>\n",
       "    </tr>\n",
       "    <tr>\n",
       "      <th>One year</th>\n",
       "      <td>2.356950</td>\n",
       "    </tr>\n",
       "    <tr>\n",
       "      <th>Two year</th>\n",
       "      <td>0.681528</td>\n",
       "    </tr>\n",
       "  </tbody>\n",
       "</table>\n",
       "</div>"
      ],
      "text/plain": [
       "                      customerID\n",
       "Churn Contract                  \n",
       "No    Month-to-month   31.520659\n",
       "      One year         18.557433\n",
       "      Two year         23.384921\n",
       "Yes   Month-to-month   23.498509\n",
       "      One year          2.356950\n",
       "      Two year          0.681528"
      ]
     },
     "execution_count": 41,
     "metadata": {},
     "output_type": "execute_result"
    }
   ],
   "source": [
    "telco_df.groupby(['Churn','Contract'])[['customerID']].count().apply(lambda x: 100*x/float(x.sum())) "
   ]
  },
  {
   "cell_type": "markdown",
   "metadata": {},
   "source": [
    "It seems that monthly based clients are more likely to become churn that clients with a longer-term contract."
   ]
  },
  {
   "cell_type": "code",
   "execution_count": 42,
   "metadata": {
    "scrolled": true
   },
   "outputs": [
    {
     "data": {
      "text/html": [
       "<div>\n",
       "<style scoped>\n",
       "    .dataframe tbody tr th:only-of-type {\n",
       "        vertical-align: middle;\n",
       "    }\n",
       "\n",
       "    .dataframe tbody tr th {\n",
       "        vertical-align: top;\n",
       "    }\n",
       "\n",
       "    .dataframe thead th {\n",
       "        text-align: right;\n",
       "    }\n",
       "</style>\n",
       "<table border=\"1\" class=\"dataframe\">\n",
       "  <thead>\n",
       "    <tr style=\"text-align: right;\">\n",
       "      <th></th>\n",
       "      <th></th>\n",
       "      <th>customerID</th>\n",
       "    </tr>\n",
       "    <tr>\n",
       "      <th>Churn</th>\n",
       "      <th>PaperlessBilling</th>\n",
       "      <th></th>\n",
       "    </tr>\n",
       "  </thead>\n",
       "  <tbody>\n",
       "    <tr>\n",
       "      <th rowspan=\"2\" valign=\"top\">No</th>\n",
       "      <th>No</th>\n",
       "      <td>34.118983</td>\n",
       "    </tr>\n",
       "    <tr>\n",
       "      <th>Yes</th>\n",
       "      <td>39.344030</td>\n",
       "    </tr>\n",
       "    <tr>\n",
       "      <th rowspan=\"2\" valign=\"top\">Yes</th>\n",
       "      <th>No</th>\n",
       "      <td>6.659094</td>\n",
       "    </tr>\n",
       "    <tr>\n",
       "      <th>Yes</th>\n",
       "      <td>19.877893</td>\n",
       "    </tr>\n",
       "  </tbody>\n",
       "</table>\n",
       "</div>"
      ],
      "text/plain": [
       "                        customerID\n",
       "Churn PaperlessBilling            \n",
       "No    No                 34.118983\n",
       "      Yes                39.344030\n",
       "Yes   No                  6.659094\n",
       "      Yes                19.877893"
      ]
     },
     "execution_count": 42,
     "metadata": {},
     "output_type": "execute_result"
    }
   ],
   "source": [
    "telco_df.groupby(['Churn','PaperlessBilling'])[['customerID']].count().apply(lambda x: 100*x/float(x.sum()))"
   ]
  },
  {
   "cell_type": "markdown",
   "metadata": {},
   "source": [
    "It seems that clients with partner are less likely to become churn."
   ]
  },
  {
   "cell_type": "code",
   "execution_count": 43,
   "metadata": {},
   "outputs": [
    {
     "data": {
      "text/html": [
       "<div>\n",
       "<style scoped>\n",
       "    .dataframe tbody tr th:only-of-type {\n",
       "        vertical-align: middle;\n",
       "    }\n",
       "\n",
       "    .dataframe tbody tr th {\n",
       "        vertical-align: top;\n",
       "    }\n",
       "\n",
       "    .dataframe thead th {\n",
       "        text-align: right;\n",
       "    }\n",
       "</style>\n",
       "<table border=\"1\" class=\"dataframe\">\n",
       "  <thead>\n",
       "    <tr style=\"text-align: right;\">\n",
       "      <th></th>\n",
       "      <th></th>\n",
       "      <th>customerID</th>\n",
       "    </tr>\n",
       "    <tr>\n",
       "      <th>Churn</th>\n",
       "      <th>Partner</th>\n",
       "      <th></th>\n",
       "    </tr>\n",
       "  </thead>\n",
       "  <tbody>\n",
       "    <tr>\n",
       "      <th rowspan=\"2\" valign=\"top\">No</th>\n",
       "      <th>No</th>\n",
       "      <td>34.658526</td>\n",
       "    </tr>\n",
       "    <tr>\n",
       "      <th>Yes</th>\n",
       "      <td>38.804487</td>\n",
       "    </tr>\n",
       "    <tr>\n",
       "      <th rowspan=\"2\" valign=\"top\">Yes</th>\n",
       "      <th>No</th>\n",
       "      <td>17.038194</td>\n",
       "    </tr>\n",
       "    <tr>\n",
       "      <th>Yes</th>\n",
       "      <td>9.498793</td>\n",
       "    </tr>\n",
       "  </tbody>\n",
       "</table>\n",
       "</div>"
      ],
      "text/plain": [
       "               customerID\n",
       "Churn Partner            \n",
       "No    No        34.658526\n",
       "      Yes       38.804487\n",
       "Yes   No        17.038194\n",
       "      Yes        9.498793"
      ]
     },
     "execution_count": 43,
     "metadata": {},
     "output_type": "execute_result"
    }
   ],
   "source": [
    "telco_df.groupby(['Churn','Partner'])[['customerID']].count().apply(lambda x: 100*x/float(x.sum())) "
   ]
  },
  {
   "cell_type": "markdown",
   "metadata": {},
   "source": [
    "Most of the churn is with clients without dependents, this suggest that people with dependents would be less likely to become churn."
   ]
  },
  {
   "cell_type": "code",
   "execution_count": 44,
   "metadata": {
    "scrolled": true
   },
   "outputs": [
    {
     "data": {
      "text/html": [
       "<div>\n",
       "<style scoped>\n",
       "    .dataframe tbody tr th:only-of-type {\n",
       "        vertical-align: middle;\n",
       "    }\n",
       "\n",
       "    .dataframe tbody tr th {\n",
       "        vertical-align: top;\n",
       "    }\n",
       "\n",
       "    .dataframe thead th {\n",
       "        text-align: right;\n",
       "    }\n",
       "</style>\n",
       "<table border=\"1\" class=\"dataframe\">\n",
       "  <thead>\n",
       "    <tr style=\"text-align: right;\">\n",
       "      <th></th>\n",
       "      <th></th>\n",
       "      <th>customerID</th>\n",
       "    </tr>\n",
       "    <tr>\n",
       "      <th>Churn</th>\n",
       "      <th>Dependents</th>\n",
       "      <th></th>\n",
       "    </tr>\n",
       "  </thead>\n",
       "  <tbody>\n",
       "    <tr>\n",
       "      <th rowspan=\"2\" valign=\"top\">No</th>\n",
       "      <th>No</th>\n",
       "      <td>48.132898</td>\n",
       "    </tr>\n",
       "    <tr>\n",
       "      <th>Yes</th>\n",
       "      <td>25.330115</td>\n",
       "    </tr>\n",
       "    <tr>\n",
       "      <th rowspan=\"2\" valign=\"top\">Yes</th>\n",
       "      <th>No</th>\n",
       "      <td>21.908278</td>\n",
       "    </tr>\n",
       "    <tr>\n",
       "      <th>Yes</th>\n",
       "      <td>4.628709</td>\n",
       "    </tr>\n",
       "  </tbody>\n",
       "</table>\n",
       "</div>"
      ],
      "text/plain": [
       "                  customerID\n",
       "Churn Dependents            \n",
       "No    No           48.132898\n",
       "      Yes          25.330115\n",
       "Yes   No           21.908278\n",
       "      Yes           4.628709"
      ]
     },
     "execution_count": 44,
     "metadata": {},
     "output_type": "execute_result"
    }
   ],
   "source": [
    "telco_df.groupby(['Churn','Dependents'])[['customerID']].count().apply(lambda x: 100*x/float(x.sum())) "
   ]
  },
  {
   "cell_type": "markdown",
   "metadata": {},
   "source": [
    "## Data Modeling"
   ]
  },
  {
   "cell_type": "markdown",
   "metadata": {},
   "source": [
    "For the model selection we reviewed the variables in the dataset and found out that most were categoric variables, which does not allow us to use PCA Analysis nor clustering to select variables, it exists methods like KMode to cluster categoric data, but does not cluster by variable or column of the dataset, it clusters by row or register, in this case client. So, the model that could help us to leverage the or find the most important variables for decision making is a Classifier Random Forest. Another good option could be Logistic Regression but, due to the high categoric variables is better and is a more robust model the Classifier Random Forest."
   ]
  },
  {
   "cell_type": "markdown",
   "metadata": {},
   "source": [
    "First, we will transform all our categoric variables to 0-1, in the case of having more than 2 option will be 0-1-2, etc."
   ]
  },
  {
   "cell_type": "code",
   "execution_count": 45,
   "metadata": {
    "scrolled": false
   },
   "outputs": [],
   "source": [
    "telco_model_df=telco_df.copy()\n",
    "telco_model_df=telco_model_df.set_index('customerID')\n",
    "telco_model_df.loc[:,'gender']=telco_model_df.loc[:,'gender'].replace(to_replace=['Male', 'Female'], value=[0,1])\n",
    "telco_model_df.iloc[:,2:4]=telco_model_df.iloc[:,2:4].replace(to_replace=['No', 'Yes'], value=[0,1])\n",
    "telco_model_df.iloc[:,5:20]=telco_model_df.iloc[:,5:20].replace(to_replace=['No', 'Yes', 'No phone service','DSL', 'Fiber optic', 'Month-to-month', 'One year', 'Two year', 'Bank transfer (automatic)', 'Credit card (automatic)', 'Electronic check', 'Mailed check', 'No internet service' ], value=[0, 1, 3, 1, 2, 0, 1, 2, 0, 1, 2, 3, 2])"
   ]
  },
  {
   "cell_type": "markdown",
   "metadata": {},
   "source": [
    "We will set a seed to make our results reproducible. Also, we use in some parts of the code random_state=1 to make sure that the model is reproducible."
   ]
  },
  {
   "cell_type": "code",
   "execution_count": 46,
   "metadata": {},
   "outputs": [],
   "source": [
    "import random \n",
    "random.seed(1)"
   ]
  },
  {
   "cell_type": "markdown",
   "metadata": {},
   "source": [
    "We will separate the inputs and the output for the model, our output or variable to predict is Churn and the inputs are the rest of the dataset."
   ]
  },
  {
   "cell_type": "code",
   "execution_count": 47,
   "metadata": {},
   "outputs": [],
   "source": [
    "labels = np.array(telco_model_df['Churn'])\n",
    "features= telco_model_df.drop('Churn', axis = 1)\n",
    "feature_list = list(features.columns)\n",
    "features = np.array(features)"
   ]
  },
  {
   "cell_type": "markdown",
   "metadata": {},
   "source": [
    "For a good model generation, we need to use Cross Validation, which splits the data sampled randomly to reduce bias and helps us to not generate an overfitted model that when new data arrives to the model we can obtain a good prediction instead of a biased prediction. For the Cross Validation we will split the data in 70-30, being 70% the training part and 30% the testing. \n",
    "This applies to our features and objective variable (Churn)."
   ]
  },
  {
   "cell_type": "code",
   "execution_count": 48,
   "metadata": {},
   "outputs": [],
   "source": [
    "train_features, test_features, train_labels, test_labels = train_test_split(features, labels, test_size = 0.3, random_state = 1)"
   ]
  },
  {
   "cell_type": "markdown",
   "metadata": {},
   "source": [
    "Now, before we could train our model, first we need to do some hyperparameter tunning with the training set to build a good predictive model. The parameters of a Classifier Random Forest are the same of a Regression Random forest, we need to know the how wide (number of splits), how dense (number of trees), how depth the trees should be, because the random forest could be and infinite series of trees, because with each partition from the node or root of the forest the data becomes more homogeneous in the node but, more heterogeneous between nodes, this could derive that with each split or node created we reach a point that for each leaf is a different variable, which means that we have information loss (variance) and a biased model.\n",
    "\n",
    "On the other, hand we must have the minimum correct amount of splits or nodes in order to reduce noise in the data, variables that does not provide any information to the model due to uncorrelation.\n",
    "\n",
    "Bottom line, Randomsearch will allow us to start the hyperparameter tunning by discarding some hyperparameters values and giving us a better starting point. In other words, Random search allowed us to narrow down the range for each hyperparameter. "
   ]
  },
  {
   "cell_type": "code",
   "execution_count": 49,
   "metadata": {
    "scrolled": true
   },
   "outputs": [],
   "source": [
    "n_estimators = [int(x) for x in np.linspace(start = 200, stop = 2000, num = 10)]\n",
    "max_features = ['auto', 'sqrt']\n",
    "max_depth = [int(x) for x in np.linspace(10, 110, num = 11)]\n",
    "max_depth.append(None)\n",
    "min_samples_split = [2, 5, 10]\n",
    "min_samples_leaf = [1, 2, 4]\n",
    "bootstrap = [True, False]\n",
    "random_grid = {'n_estimators': n_estimators,\n",
    "               'max_features': max_features,\n",
    "               'max_depth': max_depth,\n",
    "               'min_samples_split': min_samples_split,\n",
    "               'min_samples_leaf': min_samples_leaf,\n",
    "               'bootstrap': bootstrap}"
   ]
  },
  {
   "cell_type": "markdown",
   "metadata": {},
   "source": [
    "Now we will proceed to create a random model to tune and obtain their best parameters and use them as guide for obtaining better parameters. "
   ]
  },
  {
   "cell_type": "code",
   "execution_count": 50,
   "metadata": {},
   "outputs": [],
   "source": [
    "rf = RandomForestClassifier(random_state = 1)\n",
    "rf_random = RandomizedSearchCV(estimator = rf, param_distributions = random_grid, n_iter = 100, cv = 3, verbose=2, random_state=1, n_jobs = -1)"
   ]
  },
  {
   "cell_type": "code",
   "execution_count": 51,
   "metadata": {},
   "outputs": [
    {
     "name": "stdout",
     "output_type": "stream",
     "text": [
      "Fitting 3 folds for each of 100 candidates, totalling 300 fits\n"
     ]
    },
    {
     "name": "stderr",
     "output_type": "stream",
     "text": [
      "[Parallel(n_jobs=-1)]: Using backend LokyBackend with 4 concurrent workers.\n",
      "[Parallel(n_jobs=-1)]: Done  33 tasks      | elapsed:  1.2min\n",
      "[Parallel(n_jobs=-1)]: Done 154 tasks      | elapsed:  5.3min\n",
      "[Parallel(n_jobs=-1)]: Done 300 out of 300 | elapsed: 11.5min finished\n"
     ]
    },
    {
     "data": {
      "text/plain": [
       "RandomizedSearchCV(cv=3, estimator=RandomForestClassifier(random_state=1),\n",
       "                   n_iter=100, n_jobs=-1,\n",
       "                   param_distributions={'bootstrap': [True, False],\n",
       "                                        'max_depth': [10, 20, 30, 40, 50, 60,\n",
       "                                                      70, 80, 90, 100, 110,\n",
       "                                                      None],\n",
       "                                        'max_features': ['auto', 'sqrt'],\n",
       "                                        'min_samples_leaf': [1, 2, 4],\n",
       "                                        'min_samples_split': [2, 5, 10],\n",
       "                                        'n_estimators': [200, 400, 600, 800,\n",
       "                                                         1000, 1200, 1400, 1600,\n",
       "                                                         1800, 2000]},\n",
       "                   random_state=1, verbose=2)"
      ]
     },
     "execution_count": 51,
     "metadata": {},
     "output_type": "execute_result"
    }
   ],
   "source": [
    "rf_random.fit(train_features, train_labels)"
   ]
  },
  {
   "cell_type": "markdown",
   "metadata": {},
   "source": [
    "The best parameters from our random model are the following."
   ]
  },
  {
   "cell_type": "code",
   "execution_count": 52,
   "metadata": {},
   "outputs": [
    {
     "data": {
      "text/plain": [
       "{'n_estimators': 1400,\n",
       " 'min_samples_split': 10,\n",
       " 'min_samples_leaf': 4,\n",
       " 'max_features': 'sqrt',\n",
       " 'max_depth': 90,\n",
       " 'bootstrap': False}"
      ]
     },
     "execution_count": 52,
     "metadata": {},
     "output_type": "execute_result"
    }
   ],
   "source": [
    "rf_random.best_params_"
   ]
  },
  {
   "cell_type": "markdown",
   "metadata": {},
   "source": [
    "Now, we will proceed to use Gridsearch to obtain the best possible parameters narrowed by Randomsearch, which instead of looking for all the best possible combinations we could get a set of good combination (gives a model above 75% prediction) to train and test our model."
   ]
  },
  {
   "cell_type": "code",
   "execution_count": 53,
   "metadata": {},
   "outputs": [],
   "source": [
    "param_grid = {\n",
    "    'bootstrap': [True],\n",
    "    'max_depth': [80, 90, 100],\n",
    "    'max_features': [2, 3],\n",
    "    'min_samples_leaf': [3, 4, 5],\n",
    "    'min_samples_split': [8, 10, 12],\n",
    "    'n_estimators': [1000, 1400, 2000]\n",
    "}\n",
    "rf = RandomForestClassifier(random_state = 1)\n",
    "grid_search = GridSearchCV(estimator = rf, param_grid = param_grid, \n",
    "                          cv = 3, n_jobs = -1, verbose = 2)"
   ]
  },
  {
   "cell_type": "code",
   "execution_count": 54,
   "metadata": {},
   "outputs": [
    {
     "name": "stdout",
     "output_type": "stream",
     "text": [
      "Fitting 3 folds for each of 162 candidates, totalling 486 fits\n"
     ]
    },
    {
     "name": "stderr",
     "output_type": "stream",
     "text": [
      "[Parallel(n_jobs=-1)]: Using backend LokyBackend with 4 concurrent workers.\n",
      "[Parallel(n_jobs=-1)]: Done  33 tasks      | elapsed:  1.3min\n",
      "[Parallel(n_jobs=-1)]: Done 154 tasks      | elapsed:  5.9min\n",
      "[Parallel(n_jobs=-1)]: Done 357 tasks      | elapsed: 13.2min\n",
      "[Parallel(n_jobs=-1)]: Done 486 out of 486 | elapsed: 17.9min finished\n"
     ]
    },
    {
     "data": {
      "text/plain": [
       "{'bootstrap': True,\n",
       " 'max_depth': 80,\n",
       " 'max_features': 2,\n",
       " 'min_samples_leaf': 3,\n",
       " 'min_samples_split': 12,\n",
       " 'n_estimators': 1400}"
      ]
     },
     "execution_count": 54,
     "metadata": {},
     "output_type": "execute_result"
    }
   ],
   "source": [
    "grid_search.fit(train_features, train_labels)\n",
    "grid_search.best_params_"
   ]
  },
  {
   "cell_type": "markdown",
   "metadata": {},
   "source": [
    "Now, we have better hyperparameters, we will proceed to train and test our model."
   ]
  },
  {
   "cell_type": "code",
   "execution_count": 55,
   "metadata": {},
   "outputs": [
    {
     "data": {
      "text/plain": [
       "RandomForestClassifier(max_depth=80, max_features=2, min_samples_leaf=3,\n",
       "                       min_samples_split=12, n_estimators=1400, random_state=1)"
      ]
     },
     "execution_count": 55,
     "metadata": {},
     "output_type": "execute_result"
    }
   ],
   "source": [
    "forest = RandomForestClassifier(bootstrap=True, max_depth=80, max_features=2, min_samples_leaf=3, min_samples_split=12, n_estimators=1400, random_state = 1)\n",
    "forest.fit(train_features, train_labels)"
   ]
  },
  {
   "cell_type": "code",
   "execution_count": 56,
   "metadata": {},
   "outputs": [],
   "source": [
    "y_pred_test=forest.predict(test_features)"
   ]
  },
  {
   "cell_type": "markdown",
   "metadata": {},
   "source": [
    "The accuracy of our model is the following:"
   ]
  },
  {
   "cell_type": "code",
   "execution_count": 57,
   "metadata": {},
   "outputs": [
    {
     "name": "stdout",
     "output_type": "stream",
     "text": [
      "Accuracy: 0.8177946048272599\n"
     ]
    }
   ],
   "source": [
    "print(\"Accuracy:\", metrics.accuracy_score(test_labels, y_pred_test))"
   ]
  },
  {
   "cell_type": "markdown",
   "metadata": {},
   "source": [
    "Confusion Matrix"
   ]
  },
  {
   "cell_type": "code",
   "execution_count": 58,
   "metadata": {
    "scrolled": true
   },
   "outputs": [
    {
     "data": {
      "text/plain": [
       "array([[1438,  147],\n",
       "       [ 238,  290]], dtype=int64)"
      ]
     },
     "execution_count": 58,
     "metadata": {},
     "output_type": "execute_result"
    }
   ],
   "source": [
    "metrics.confusion_matrix(test_labels, y_pred_test)"
   ]
  },
  {
   "cell_type": "markdown",
   "metadata": {},
   "source": [
    "Now that we have a good model, we will proceed to observe the feature of importance's to narrow the variables we should focus and generate strategies."
   ]
  },
  {
   "cell_type": "code",
   "execution_count": 59,
   "metadata": {},
   "outputs": [],
   "source": [
    "feature_names = list(feature_list)"
   ]
  },
  {
   "cell_type": "code",
   "execution_count": 60,
   "metadata": {},
   "outputs": [],
   "source": [
    "importances = forest.feature_importances_\n",
    "std = np.std([tree.feature_importances_ for tree in forest.estimators_], axis=0)"
   ]
  },
  {
   "cell_type": "code",
   "execution_count": 61,
   "metadata": {},
   "outputs": [
    {
     "data": {
      "image/png": "[encoded data removed]",
      "text/plain": [
       "<Figure size 432x288 with 1 Axes>"
      ]
     },
     "metadata": {
      "needs_background": "light"
     },
     "output_type": "display_data"
    }
   ],
   "source": [
    "forest_importances = pd.Series(importances, index=feature_names)\n",
    "\n",
    "fig, ax = plt.subplots()\n",
    "forest_importances.plot.bar(yerr=std, ax=ax)\n",
    "ax.set_title(\"Feature importances using Mean Decrease in Impurity\")\n",
    "ax.set_ylabel(\"Mean decrease in impurity\")\n",
    "fig.tight_layout()"
   ]
  },
  {
   "cell_type": "code",
   "execution_count": 62,
   "metadata": {},
   "outputs": [
    {
     "name": "stdout",
     "output_type": "stream",
     "text": [
      "Variable: tenure               Importance: 0.16\n",
      "Variable: TotalCharges         Importance: 0.16\n",
      "Variable: MonthlyCharges       Importance: 0.12\n",
      "Variable: Contract             Importance: 0.11\n",
      "Variable: InternetService      Importance: 0.06\n",
      "Variable: OnlineSecurity       Importance: 0.06\n",
      "Variable: TechSupport          Importance: 0.06\n",
      "Variable: PaymentMethod        Importance: 0.05\n",
      "Variable: OnlineBackup         Importance: 0.03\n",
      "Variable: DeviceProtection     Importance: 0.03\n",
      "Variable: StreamingMovies      Importance: 0.03\n",
      "Variable: SeniorCitizen        Importance: 0.02\n",
      "Variable: Partner              Importance: 0.02\n",
      "Variable: MultipleLines        Importance: 0.02\n",
      "Variable: StreamingTV          Importance: 0.02\n",
      "Variable: PaperlessBilling     Importance: 0.02\n",
      "Variable: gender               Importance: 0.01\n",
      "Variable: Dependents           Importance: 0.01\n",
      "Variable: PhoneService         Importance: 0.0\n"
     ]
    }
   ],
   "source": [
    "feature_importances = [(feature, round(importance, 2)) for feature, importance in zip(feature_list, importances)]\n",
    "feature_importances = sorted(feature_importances, key = lambda x: x[1], reverse = True)\n",
    "[print('Variable: {:20} Importance: {}'.format(*pair)) for pair in feature_importances];"
   ]
  },
  {
   "cell_type": "markdown",
   "metadata": {},
   "source": [
    "We can observe that the top seven variables are: \n",
    "1. tenure\n",
    "2. TotalCharges \n",
    "3. MonthlyCharges \n",
    "4. Contract \n",
    "5. InternetService \n",
    "6. Online Security \n",
    "7. TechSupport\n",
    "8. Payment Method\n",
    "\n",
    "The table from above, shows us that some variables analyzed in the exploratory data analysis are not that meaningful for the business. We need to focus in the top 8, which tenure and TotalCharges are variables that logically or commonly together, with the following logic, as more time with the service the total spending by our client is higher."
   ]
  },
  {
   "cell_type": "markdown",
   "metadata": {},
   "source": [
    "## Strategy"
   ]
  },
  {
   "cell_type": "markdown",
   "metadata": {},
   "source": [
    "In conclusion, we can answer the business case, which will be concluded by the following strategies for increasing the customer engagement:\n",
    "1. Generate a customer membership reward program that becomes better or upgrades every year or certain number of months to the client to be more engaged with the service.\n",
    "2. The monthly charge should be reduced and/or offer another kind of periodical payment as bimestrial or semestral, annual etc. and focus on actual clients migration through different incentives or a good marketing campaign.\n",
    "3. Promote longer term contracts because we generate more engagement with our clients and migrate monthly based contracts to longer term contracts for example 1- or 2- years contract by giving away small discounts.\n",
    "4. Create a package with internet service, online security, and tech support for the same or a little bit higher price than the stand-alone internet service.\n",
    "5. Automate payment method and migrate actual clients to automated payment methods to increase their engagement. Encourage should be addressed by offering a small discount, rewards more services or a better-quality service and lower the quality of their service with the actual payment method."
   ]
  },
  {
   "cell_type": "markdown",
   "metadata": {},
   "source": [
    "## Apendix"
   ]
  },
  {
   "cell_type": "markdown",
   "metadata": {},
   "source": [
    "Code for exporting prepared dataset for Classifier Random Forest replication."
   ]
  },
  {
   "cell_type": "code",
   "execution_count": 63,
   "metadata": {},
   "outputs": [],
   "source": [
    "np.savetxt('RF_Dataset.txt', telco_model_df, fmt='%d', delimiter=\" \", header=\"gender SeniorCitizen Partner Dependents tenure PhoneService MultipleLines InternetService OnlineSecurity OnlineBackup DeviceProtection TechSupport StreamingTV StreamingMovies Contract PaperlessBilling PaymentMethod MonthlyCharges TotalCharges Churn\" )\n"
   ]
  }
 ],
 "metadata": {
  "kernelspec": {
   "display_name": "Python 3",
   "language": "python",
   "name": "python3"
  },
  "language_info": {
   "codemirror_mode": {
    "name": "ipython",
    "version": 3
   },
   "file_extension": ".py",
   "mimetype": "text/x-python",
   "name": "python",
   "nbconvert_exporter": "python",
   "pygments_lexer": "ipython3",
   "version": "3.8.3"
  }
 },
 "nbformat": 4,
 "nbformat_minor": 4
}
